{
 "cells": [
  {
   "cell_type": "code",
   "execution_count": 1,
   "id": "54f32c1d",
   "metadata": {},
   "outputs": [
    {
     "name": "stdout",
     "output_type": "stream",
     "text": [
      "11111\n"
     ]
    }
   ],
   "source": [
    "a = \"1\"\n",
    "a = a*5\n",
    "print(a)"
   ]
  },
  {
   "cell_type": "code",
   "execution_count": 2,
   "id": "b851f308",
   "metadata": {},
   "outputs": [
    {
     "name": "stdout",
     "output_type": "stream",
     "text": [
      "110\n"
     ]
    }
   ],
   "source": [
    "def calc(x, y, z=20) :\n",
    "    return x-y+z\n",
    "print(calc(y=10, x=100))"
   ]
  },
  {
   "cell_type": "code",
   "execution_count": 48,
   "id": "d18c71d4",
   "metadata": {},
   "outputs": [
    {
     "name": "stdout",
     "output_type": "stream",
     "text": [
      "정수를 입력하시오: -523\n",
      "음수입니다.\n"
     ]
    }
   ],
   "source": [
    "num = int(input('정수를 입력하시오: '))\n",
    "if num >0 :\n",
    "    print('양수입니다.')\n",
    "elif num == 0 :\n",
    "    print('0입니다.')\n",
    "if num<0:\n",
    "    print('음수입니다.')"
   ]
  },
  {
   "cell_type": "code",
   "execution_count": null,
   "id": "f1add99e",
   "metadata": {},
   "outputs": [],
   "source": []
  },
  {
   "cell_type": "code",
   "execution_count": null,
   "id": "92e3fa6b",
   "metadata": {},
   "outputs": [],
   "source": []
  },
  {
   "cell_type": "code",
   "execution_count": null,
   "id": "7f40724f",
   "metadata": {},
   "outputs": [],
   "source": []
  },
  {
   "cell_type": "code",
   "execution_count": null,
   "id": "c98a53bb",
   "metadata": {},
   "outputs": [],
   "source": []
  },
  {
   "cell_type": "code",
   "execution_count": 37,
   "id": "59f6617e",
   "metadata": {},
   "outputs": [
    {
     "ename": "SyntaxError",
     "evalue": "invalid syntax (Temp/ipykernel_15124/3109188861.py, line 4)",
     "output_type": "error",
     "traceback": [
      "\u001b[1;36m  File \u001b[1;32m\"C:\\Users\\Han\\AppData\\Local\\Temp/ipykernel_15124/3109188861.py\"\u001b[1;36m, line \u001b[1;32m4\u001b[0m\n\u001b[1;33m    else n== 12:\u001b[0m\n\u001b[1;37m         ^\u001b[0m\n\u001b[1;31mSyntaxError\u001b[0m\u001b[1;31m:\u001b[0m invalid syntax\n"
     ]
    }
   ],
   "source": [
    "n=12\n",
    "if n == 10 :\n",
    "    print('네')\n",
    "else n== 12:\n",
    "    print('아니오')\n",
    "    "
   ]
  },
  {
   "cell_type": "code",
   "execution_count": null,
   "id": "7890deaf",
   "metadata": {},
   "outputs": [],
   "source": []
  },
  {
   "cell_type": "code",
   "execution_count": null,
   "id": "8eb2a443",
   "metadata": {},
   "outputs": [],
   "source": []
  },
  {
   "cell_type": "code",
   "execution_count": 9,
   "id": "2049c081",
   "metadata": {},
   "outputs": [
    {
     "name": "stdout",
     "output_type": "stream",
     "text": [
      "10\n",
      "8\n",
      "6\n",
      "4\n"
     ]
    }
   ],
   "source": [
    "for i in range (10, 2, -2) :\n",
    "    print(i)"
   ]
  },
  {
   "cell_type": "code",
   "execution_count": 10,
   "id": "4001cfd7",
   "metadata": {},
   "outputs": [
    {
     "name": "stdout",
     "output_type": "stream",
     "text": [
      "     *\n",
      "    ***\n",
      "   *****\n",
      "  *******\n",
      " *********\n",
      "***********\n"
     ]
    }
   ],
   "source": [
    "n = 11\n",
    "half = n//2\n",
    "for x in range(half + 1) :\n",
    "    print(' '*(half-x), end='')\n",
    "    print('*'*(2*x+1))"
   ]
  },
  {
   "cell_type": "code",
   "execution_count": 12,
   "id": "1ad6717a",
   "metadata": {},
   "outputs": [
    {
     "name": "stdout",
     "output_type": "stream",
     "text": [
      "     \n",
      "    **\n",
      "   ****\n",
      "  ******\n",
      " ********\n",
      "**********\n"
     ]
    }
   ],
   "source": [
    "n = 11\n",
    "half = n//2\n",
    "for x in range(half + 1) :\n",
    "    print(' '*(half-x), end='')\n",
    "    print('*'*(2*x))"
   ]
  },
  {
   "cell_type": "code",
   "execution_count": 13,
   "id": "9e6d2e68",
   "metadata": {},
   "outputs": [
    {
     "name": "stdout",
     "output_type": "stream",
     "text": [
      "it was the best of times it was the worst of times\n",
      "it was the age of wisdom it was the age of foolishness\n",
      "it was the epoch of belief it was the epoch of incredulity\n",
      "it was the season of light it was the season of darkness\n",
      "it was the spring of hope it was the winter of despair"
     ]
    }
   ],
   "source": [
    "myfile = open('c:/temp/data.txt', 'r')\n",
    "for s in myfile :\n",
    "    print(s, end='')"
   ]
  },
  {
   "cell_type": "code",
   "execution_count": 21,
   "id": "68e61b1b",
   "metadata": {},
   "outputs": [
    {
     "ename": "SyntaxError",
     "evalue": "cannot assign to operator (Temp/ipykernel_15124/3180473736.py, line 1)",
     "output_type": "error",
     "traceback": [
      "\u001b[1;36m  File \u001b[1;32m\"C:\\Users\\Han\\AppData\\Local\\Temp/ipykernel_15124/3180473736.py\"\u001b[1;36m, line \u001b[1;32m1\u001b[0m\n\u001b[1;33m    _1-_= ['나는', '시멈']\u001b[0m\n\u001b[1;37m    ^\u001b[0m\n\u001b[1;31mSyntaxError\u001b[0m\u001b[1;31m:\u001b[0m cannot assign to operator\n"
     ]
    }
   ],
   "source": [
    "_1-_= ['나는', '시멈']\n",
    "print(_1-_)"
   ]
  },
  {
   "cell_type": "code",
   "execution_count": 26,
   "id": "7fa59875",
   "metadata": {},
   "outputs": [
    {
     "name": "stdout",
     "output_type": "stream",
     "text": [
      "양의 정수를 입력: 10\n",
      "         \n",
      "        *\n",
      "       **\n",
      "      ***\n",
      "     ****\n",
      "    *****\n",
      "   ******\n",
      "  *******\n",
      " ********\n",
      "*********\n"
     ]
    }
   ],
   "source": [
    "n = int(input('양의 정수를 입력: '))\n",
    "for x in range(n, 0, -1) :\n",
    "    print(' '*(x-1), end='')\n",
    "    print('*'*(n-x))"
   ]
  },
  {
   "cell_type": "code",
   "execution_count": 27,
   "id": "c1cbc3d1",
   "metadata": {},
   "outputs": [
    {
     "name": "stdout",
     "output_type": "stream",
     "text": [
      "주사위 1 x2 34\n"
     ]
    }
   ],
   "source": [
    "import random\n",
    "cnt = [0,0,0,0,0,0]\n",
    "for x in range(100) :\n",
    "    n = random.randint(0,5)\n",
    "    cnt[n] += 2\n",
    "\n",
    "print('주 x2', cnt[0])"
   ]
  },
  {
   "cell_type": "code",
   "execution_count": 31,
   "id": "baf2b36f",
   "metadata": {},
   "outputs": [
    {
     "name": "stdout",
     "output_type": "stream",
     "text": [
      "[20, 40, 50]\n"
     ]
    }
   ],
   "source": [
    "L = [100, 20, 40, 50, 500, 1000, 10000, 20000]\n",
    "print(L[-7:-4])"
   ]
  },
  {
   "cell_type": "code",
   "execution_count": 32,
   "id": "21e68353",
   "metadata": {},
   "outputs": [
    {
     "name": "stdout",
     "output_type": "stream",
     "text": [
      "양의정수를 입력: 10\n",
      "         \n",
      "        *\n",
      "       **\n",
      "      ***\n",
      "     ****\n",
      "    *****\n",
      "   ******\n",
      "  *******\n",
      " ********\n",
      "*********\n"
     ]
    }
   ],
   "source": [
    "n=int(input('양의정수를 입력: '))\n",
    "for x in range(n, 0, -1) :\n",
    "    print(' '*(x-1), end='')\n",
    "    print('*'*(n-x))"
   ]
  },
  {
   "cell_type": "code",
   "execution_count": 33,
   "id": "e61bef6f",
   "metadata": {},
   "outputs": [
    {
     "name": "stdout",
     "output_type": "stream",
     "text": [
      "110\n"
     ]
    }
   ],
   "source": [
    "def cal(x, y, z=20) :\n",
    "    return x-y+z\n",
    "print(calc(y=10, x=100))"
   ]
  },
  {
   "cell_type": "code",
   "execution_count": null,
   "id": "ce3c8957",
   "metadata": {},
   "outputs": [],
   "source": [
    "continue"
   ]
  },
  {
   "cell_type": "code",
   "execution_count": 34,
   "id": "0dabe938",
   "metadata": {},
   "outputs": [],
   "source": [
    "for x in range(10, 1) :\n",
    "    print(x)"
   ]
  },
  {
   "cell_type": "code",
   "execution_count": null,
   "id": "d31b9df9",
   "metadata": {},
   "outputs": [],
   "source": [
    "n "
   ]
  },
  {
   "cell_type": "code",
   "execution_count": 50,
   "id": "a57cb9c4",
   "metadata": {},
   "outputs": [
    {
     "name": "stdout",
     "output_type": "stream",
     "text": [
      "양의 정수를 입력: 20\n",
      "false\n"
     ]
    }
   ],
   "source": [
    "num = int(input('양의 정수를 입력: '))\n",
    "if num == 1:\n",
    "    print('false')\n",
    "else :\n",
    "    x = 2\n",
    "    while x < num :\n",
    "        if num % x == 0 :\n",
    "            print('false')\n",
    "            break\n",
    "        x+=1\n",
    "    else :\n",
    "        print('true')"
   ]
  },
  {
   "cell_type": "code",
   "execution_count": null,
   "id": "c04d2460",
   "metadata": {},
   "outputs": [],
   "source": []
  },
  {
   "cell_type": "code",
   "execution_count": null,
   "id": "ce31fe2e",
   "metadata": {},
   "outputs": [],
   "source": []
  },
  {
   "cell_type": "code",
   "execution_count": null,
   "id": "b52ef0a7",
   "metadata": {},
   "outputs": [],
   "source": []
  },
  {
   "cell_type": "code",
   "execution_count": null,
   "id": "e87a01d0",
   "metadata": {},
   "outputs": [],
   "source": []
  },
  {
   "cell_type": "code",
   "execution_count": null,
   "id": "0837afbf",
   "metadata": {},
   "outputs": [],
   "source": []
  },
  {
   "cell_type": "code",
   "execution_count": null,
   "id": "291144f7",
   "metadata": {},
   "outputs": [],
   "source": []
  },
  {
   "cell_type": "code",
   "execution_count": null,
   "id": "fc8530f2",
   "metadata": {},
   "outputs": [],
   "source": []
  },
  {
   "cell_type": "code",
   "execution_count": null,
   "id": "4f78882d",
   "metadata": {},
   "outputs": [],
   "source": []
  },
  {
   "cell_type": "code",
   "execution_count": null,
   "id": "ebe14c8f",
   "metadata": {},
   "outputs": [],
   "source": []
  },
  {
   "cell_type": "code",
   "execution_count": null,
   "id": "61fb8abc",
   "metadata": {},
   "outputs": [],
   "source": []
  },
  {
   "cell_type": "code",
   "execution_count": null,
   "id": "62ae1a72",
   "metadata": {},
   "outputs": [],
   "source": []
  },
  {
   "cell_type": "code",
   "execution_count": null,
   "id": "71121c26",
   "metadata": {},
   "outputs": [],
   "source": []
  },
  {
   "cell_type": "code",
   "execution_count": null,
   "id": "9d52209b",
   "metadata": {},
   "outputs": [],
   "source": []
  },
  {
   "cell_type": "code",
   "execution_count": null,
   "id": "2cec174e",
   "metadata": {},
   "outputs": [],
   "source": []
  },
  {
   "cell_type": "code",
   "execution_count": null,
   "id": "dadabfd9",
   "metadata": {},
   "outputs": [],
   "source": []
  },
  {
   "cell_type": "code",
   "execution_count": null,
   "id": "2277ae07",
   "metadata": {},
   "outputs": [],
   "source": []
  },
  {
   "cell_type": "code",
   "execution_count": null,
   "id": "47ceb5a8",
   "metadata": {},
   "outputs": [],
   "source": []
  },
  {
   "cell_type": "code",
   "execution_count": null,
   "id": "d60267ea",
   "metadata": {},
   "outputs": [],
   "source": []
  },
  {
   "cell_type": "code",
   "execution_count": null,
   "id": "4ebe3947",
   "metadata": {},
   "outputs": [],
   "source": []
  },
  {
   "cell_type": "code",
   "execution_count": null,
   "id": "f7b4b596",
   "metadata": {},
   "outputs": [],
   "source": []
  },
  {
   "cell_type": "code",
   "execution_count": null,
   "id": "64d705e3",
   "metadata": {},
   "outputs": [],
   "source": []
  },
  {
   "cell_type": "code",
   "execution_count": null,
   "id": "dfd5b57d",
   "metadata": {},
   "outputs": [],
   "source": []
  },
  {
   "cell_type": "code",
   "execution_count": null,
   "id": "a16c005d",
   "metadata": {},
   "outputs": [],
   "source": []
  },
  {
   "cell_type": "code",
   "execution_count": null,
   "id": "3375f5d1",
   "metadata": {},
   "outputs": [],
   "source": []
  },
  {
   "cell_type": "code",
   "execution_count": null,
   "id": "cc39a84d",
   "metadata": {},
   "outputs": [],
   "source": []
  },
  {
   "cell_type": "code",
   "execution_count": null,
   "id": "8711a700",
   "metadata": {},
   "outputs": [],
   "source": []
  },
  {
   "cell_type": "code",
   "execution_count": null,
   "id": "d1ca9495",
   "metadata": {},
   "outputs": [],
   "source": []
  }
 ],
 "metadata": {
  "kernelspec": {
   "display_name": "Python 3 (ipykernel)",
   "language": "python",
   "name": "python3"
  },
  "language_info": {
   "codemirror_mode": {
    "name": "ipython",
    "version": 3
   },
   "file_extension": ".py",
   "mimetype": "text/x-python",
   "name": "python",
   "nbconvert_exporter": "python",
   "pygments_lexer": "ipython3",
   "version": "3.9.7"
  }
 },
 "nbformat": 4,
 "nbformat_minor": 5
}
