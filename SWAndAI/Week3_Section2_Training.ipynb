{
 "cells": [
  {
   "cell_type": "code",
   "execution_count": 3,
   "id": "f0c50460",
   "metadata": {},
   "outputs": [
    {
     "name": "stdout",
     "output_type": "stream",
     "text": [
      "정수를 입력하세요: -10\n",
      "10\n"
     ]
    }
   ],
   "source": [
    "num = int(input(\"정수를 입력하세요: \"))\n",
    "if num >= 0 :\n",
    "    print(num)\n",
    "else :\n",
    "    print(- num)"
   ]
  },
  {
   "cell_type": "code",
   "execution_count": 4,
   "id": "f48585d1",
   "metadata": {},
   "outputs": [
    {
     "name": "stdout",
     "output_type": "stream",
     "text": [
      "정수를 입력하세요: -10\n",
      "10\n"
     ]
    }
   ],
   "source": [
    "num = int(input(\"정수를 입력하세요: \"))\n",
    "if num < 0 :\n",
    "    num = num * -1 # num = -num. 주석(comment)\n",
    "print(num)"
   ]
  },
  {
   "cell_type": "code",
   "execution_count": 10,
   "id": "1edb3a81",
   "metadata": {},
   "outputs": [
    {
     "name": "stdout",
     "output_type": "stream",
     "text": [
      "첫번째 정수를 입력하세요: 10\n",
      "두번째 정수를 입력하세요: 30\n",
      "20\n"
     ]
    }
   ],
   "source": [
    "x = int(input(\"첫번째 정수를 입력하세요: \"))\n",
    "y = int(input(\"두번째 정수를 입력하세요: \"))\n",
    "num = x - y\n",
    "if num > 0 :\n",
    "    print(num)\n",
    "else :\n",
    "    print(-num)"
   ]
  },
  {
   "cell_type": "code",
   "execution_count": 15,
   "id": "f6235f5e",
   "metadata": {},
   "outputs": [
    {
     "name": "stdout",
     "output_type": "stream",
     "text": [
      "첫번째 퀴즈 점수를 입력하세요: 10\n",
      "두번째 퀴즈 점수를 입력하세요: 10\n",
      "시험 점수를 입력하세요: 35\n",
      "실패\n"
     ]
    }
   ],
   "source": [
    "quiz1 = int(input(\"첫번째 퀴즈 점수를 입력하세요: \"))\n",
    "quiz2 = int(input(\"두번째 퀴즈 점수를 입력하세요: \"))\n",
    "exam = int(input(\"시험 점수를 입력하세요: \"))\n",
    "total = quiz1 + quiz2 + exam\n",
    "\n",
    "if total < 60 or exam < 30 :\n",
    "    print('실패')\n",
    "elif total >= 90 :\n",
    "    print('탁월')\n",
    "elif total >= 80 :\n",
    "    print('우수')\n",
    "else :\n",
    "    print('양호')"
   ]
  }
 ],
 "metadata": {
  "kernelspec": {
   "display_name": "Python 3 (ipykernel)",
   "language": "python",
   "name": "python3"
  },
  "language_info": {
   "codemirror_mode": {
    "name": "ipython",
    "version": 3
   },
   "file_extension": ".py",
   "mimetype": "text/x-python",
   "name": "python",
   "nbconvert_exporter": "python",
   "pygments_lexer": "ipython3",
   "version": "3.9.7"
  }
 },
 "nbformat": 4,
 "nbformat_minor": 5
}
