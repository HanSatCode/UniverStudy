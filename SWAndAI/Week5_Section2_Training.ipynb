{
 "cells": [
  {
   "cell_type": "code",
   "execution_count": 14,
   "id": "20e3452a",
   "metadata": {},
   "outputs": [
    {
     "name": "stdout",
     "output_type": "stream",
     "text": [
      "학생의 성적을 입력하세요: 10\n",
      "학생의 성적을 입력하세요: 20\n",
      "학생의 성적을 입력하세요: 90\n",
      "학생의 성적을 입력하세요: 80\n",
      "학생의 성적을 입력하세요: 100\n",
      "[100, 90, 80, 20, 10]\n",
      "100 10\n",
      "300 60.0\n",
      "[90, 100]\n"
     ]
    }
   ],
   "source": [
    "grades = []\n",
    "sumSum = 0\n",
    "for _ in range(5) :\n",
    "    num = int(input(\"학생의 성적을 입력하세요: \"))\n",
    "    grades.append(num)\n",
    "    sumSum += num\n",
    "print(sorted(grades, reverse=True)) # sorted를 붙인다고 내용을 바꾸지 않습니다.\n",
    "print(max(grades), min(grades))\n",
    "print(sumSum, sumSum/5)\n",
    "print([grades[x] for x in range(5) if grades[x]>= 90])"
   ]
  },
  {
   "cell_type": "code",
   "execution_count": 21,
   "id": "b419a866",
   "metadata": {},
   "outputs": [
    {
     "name": "stdout",
     "output_type": "stream",
     "text": [
      "[8, 13, 23, 28, 34, 37]\n"
     ]
    }
   ],
   "source": [
    "import random\n",
    "lotto = []\n",
    "while True :\n",
    "    num = random.randint(1, 45) # 1부터 45이다. 45가 포함된다. 주의한다.\n",
    "    if num not in lotto :\n",
    "        lotto.append(num)\n",
    "    if len(lotto) == 6 :\n",
    "        break\n",
    "print(sorted(lotto))"
   ]
  },
  {
   "cell_type": "code",
   "execution_count": 3,
   "id": "50cd35f5",
   "metadata": {},
   "outputs": [
    {
     "name": "stdout",
     "output_type": "stream",
     "text": [
      "[[9, 10, 6], [1, 2, 5], [2, 10, 8]] [[9, 10, 1], [3, 10, 5], [4, 5, 9]]\n",
      "[[18, 20, 7], [4, 12, 10], [6, 15, 17]]\n"
     ]
    }
   ],
   "source": [
    "import random\n",
    "A = [ [random.randint(1,10) for y in range(3)] for x in range(3) ]\n",
    "B = [ [random.randint(1,10) for y in range(3)] for x in range(3) ]\n",
    "print(A, B)\n",
    "\n",
    "C = [ [A[x][y] + B[x][y] for y in range(3)] for x in range(3) ]\n",
    "print(C)"
   ]
  }
 ],
 "metadata": {
  "kernelspec": {
   "display_name": "Python 3 (ipykernel)",
   "language": "python",
   "name": "python3"
  },
  "language_info": {
   "codemirror_mode": {
    "name": "ipython",
    "version": 3
   },
   "file_extension": ".py",
   "mimetype": "text/x-python",
   "name": "python",
   "nbconvert_exporter": "python",
   "pygments_lexer": "ipython3",
   "version": "3.9.7"
  }
 },
 "nbformat": 4,
 "nbformat_minor": 5
}
