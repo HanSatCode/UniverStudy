{
 "cells": [
  {
   "cell_type": "markdown",
   "id": "76ed14a1",
   "metadata": {},
   "source": [
    "# 실습 1"
   ]
  },
  {
   "cell_type": "code",
   "execution_count": 2,
   "id": "6e4a181b",
   "metadata": {},
   "outputs": [
    {
     "name": "stdout",
     "output_type": "stream",
     "text": [
      "10개의 값을 입력하세요: 10 -23 43 23 1.9 -34.3 76.2 -123.2 90 32\n"
     ]
    }
   ],
   "source": [
    "input_str = input('10개의 값을 입력하세요: ')"
   ]
  },
  {
   "cell_type": "code",
   "execution_count": 8,
   "id": "12faf096",
   "metadata": {},
   "outputs": [],
   "source": [
    "L = input_str.split()"
   ]
  },
  {
   "cell_type": "code",
   "execution_count": 9,
   "id": "fed5b0b5",
   "metadata": {},
   "outputs": [],
   "source": [
    "L = list(map(float, L))"
   ]
  },
  {
   "cell_type": "code",
   "execution_count": 10,
   "id": "dd9b20c6",
   "metadata": {},
   "outputs": [],
   "source": [
    "Min = Max = Sum = L[0]\n",
    "for i in range(1, len(L)) :\n",
    "    Sum += L[i]\n",
    "    if Min > L[i] :\n",
    "        Min = L[i]\n",
    "    if Max < L[i] :\n",
    "        Max = L[i]\n",
    "Avg = Sum / len(L)"
   ]
  },
  {
   "cell_type": "code",
   "execution_count": 11,
   "id": "9c603720",
   "metadata": {},
   "outputs": [
    {
     "data": {
      "text/plain": [
       "-123.2"
      ]
     },
     "execution_count": 11,
     "metadata": {},
     "output_type": "execute_result"
    }
   ],
   "source": [
    "Min"
   ]
  },
  {
   "cell_type": "code",
   "execution_count": 12,
   "id": "82c7b2b1",
   "metadata": {},
   "outputs": [
    {
     "data": {
      "text/plain": [
       "90.0"
      ]
     },
     "execution_count": 12,
     "metadata": {},
     "output_type": "execute_result"
    }
   ],
   "source": [
    "Max"
   ]
  },
  {
   "cell_type": "code",
   "execution_count": 13,
   "id": "6cf3ccbb",
   "metadata": {},
   "outputs": [
    {
     "data": {
      "text/plain": [
       "9.56"
      ]
     },
     "execution_count": 13,
     "metadata": {},
     "output_type": "execute_result"
    }
   ],
   "source": [
    "Avg"
   ]
  },
  {
   "cell_type": "markdown",
   "id": "c4ccddda",
   "metadata": {},
   "source": [
    "# 실습 3"
   ]
  },
  {
   "cell_type": "code",
   "execution_count": 14,
   "id": "a59b1f9f",
   "metadata": {},
   "outputs": [],
   "source": [
    "import matplotlib.pyplot as plt"
   ]
  },
  {
   "cell_type": "code",
   "execution_count": 15,
   "id": "ee108bd0",
   "metadata": {},
   "outputs": [],
   "source": [
    "import csv"
   ]
  },
  {
   "cell_type": "code",
   "execution_count": 17,
   "id": "6bc77f74",
   "metadata": {},
   "outputs": [],
   "source": [
    "data_file_name = 'src/daegu.csv'\n",
    "f = open(data_file_name)"
   ]
  },
  {
   "cell_type": "code",
   "execution_count": 18,
   "id": "79b26661",
   "metadata": {},
   "outputs": [],
   "source": [
    "temp_data = csv.reader(f)"
   ]
  },
  {
   "cell_type": "code",
   "execution_count": 19,
   "id": "f14c2f7e",
   "metadata": {},
   "outputs": [],
   "source": [
    "header = next(temp_data)"
   ]
  },
  {
   "cell_type": "code",
   "execution_count": 20,
   "id": "ff2831bd",
   "metadata": {},
   "outputs": [
    {
     "data": {
      "text/plain": [
       "['날짜', '지점', '평균기온(℃)', '최저기온(℃)', '최고기온(℃)']"
      ]
     },
     "execution_count": 20,
     "metadata": {},
     "output_type": "execute_result"
    }
   ],
   "source": [
    "header"
   ]
  },
  {
   "cell_type": "code",
   "execution_count": 23,
   "id": "6a1b3e73",
   "metadata": {},
   "outputs": [],
   "source": [
    "temp_month = [ [], [], [], [], [], [], [], [], [], [], [], [] ]"
   ]
  },
  {
   "cell_type": "code",
   "execution_count": 24,
   "id": "bec6f82d",
   "metadata": {},
   "outputs": [],
   "source": [
    "for row in temp_data :\n",
    "    if row[2] != '' :\n",
    "        m = int(row[0].split('-')[1]) - 1\n",
    "        temp_month[m].append(float(row[2]))"
   ]
  },
  {
   "cell_type": "code",
   "execution_count": 27,
   "id": "9a31f8bb",
   "metadata": {},
   "outputs": [
    {
     "data": {
      "image/png": "[encoded data removed]",
      "text/plain": [
       "<Figure size 432x288 with 1 Axes>"
      ]
     },
     "metadata": {
      "needs_background": "light"
     },
     "output_type": "display_data"
    }
   ],
   "source": [
    "plt.rcParams['font.family'] = 'NanumGothic'\n",
    "plt.rcParams['font.size'] = 14\n",
    "plt.rcParams['axes.unicode_minus'] = False\n",
    "\n",
    "plt.boxplot(temp_month)\n",
    "plt.title(\"대구 월별 기온 분포(2021.1 ~ 2021.12)\")\n",
    "plt.show()"
   ]
  }
 ],
 "metadata": {
  "kernelspec": {
   "display_name": "Python 3 (ipykernel)",
   "language": "python",
   "name": "python3"
  },
  "language_info": {
   "codemirror_mode": {
    "name": "ipython",
    "version": 3
   },
   "file_extension": ".py",
   "mimetype": "text/x-python",
   "name": "python",
   "nbconvert_exporter": "python",
   "pygments_lexer": "ipython3",
   "version": "3.9.7"
  }
 },
 "nbformat": 4,
 "nbformat_minor": 5
}
