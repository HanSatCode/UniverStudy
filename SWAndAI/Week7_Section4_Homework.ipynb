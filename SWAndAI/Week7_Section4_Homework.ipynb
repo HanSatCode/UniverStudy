{
 "cells": [
  {
   "cell_type": "code",
   "execution_count": 2,
   "id": "d1046ad6",
   "metadata": {},
   "outputs": [
    {
     "name": "stdout",
     "output_type": "stream",
     "text": [
      "URL을 입력해주세요 : https://www.naver.com\n"
     ]
    }
   ],
   "source": [
    "import webbrowser\n",
    "\n",
    "def webOpen(url) :\n",
    "    webbrowser.open(url)\n",
    "\n",
    "url = str(input(\"URL을 입력해주세요 : \"))\n",
    "webOpen(url)"
   ]
  }
 ],
 "metadata": {
  "kernelspec": {
   "display_name": "Python 3 (ipykernel)",
   "language": "python",
   "name": "python3"
  },
  "language_info": {
   "codemirror_mode": {
    "name": "ipython",
    "version": 3
   },
   "file_extension": ".py",
   "mimetype": "text/x-python",
   "name": "python",
   "nbconvert_exporter": "python",
   "pygments_lexer": "ipython3",
   "version": "3.9.7"
  }
 },
 "nbformat": 4,
 "nbformat_minor": 5
}
