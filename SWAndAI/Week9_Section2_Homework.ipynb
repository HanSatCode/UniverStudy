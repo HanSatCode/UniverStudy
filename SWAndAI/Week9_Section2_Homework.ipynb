{
 "cells": [
  {
   "cell_type": "code",
   "execution_count": 11,
   "id": "ef1a7a11",
   "metadata": {},
   "outputs": [
    {
     "name": "stdout",
     "output_type": "stream",
     "text": [
      "10개의 정수를 입력: 10 5 -10 7 8 3 -5 -1 0 1\n",
      "평균 = 1.80, 분산 = 34.16, 표준편차 = 5.84\n"
     ]
    }
   ],
   "source": [
    "import math\n",
    "num = list(map(int, input('10개의 정수를 입력: ').split()))\n",
    "\n",
    "Sum = sum(num)\n",
    "Avg = Sum/len(num)\n",
    "\n",
    "minusSum = 0\n",
    "for i in range(len(num)) :\n",
    "    NmA = num[i] - Avg\n",
    "    minusSum += NmA**2\n",
    "dis = minusSum / len(num)\n",
    "dev = math.sqrt(dis)\n",
    "\n",
    "print(f'평균 = {Avg:.2f}, 분산 = {dis:.2f}, 표준편차 = {dev:.2f}')"
   ]
  }
 ],
 "metadata": {
  "kernelspec": {
   "display_name": "Python 3 (ipykernel)",
   "language": "python",
   "name": "python3"
  },
  "language_info": {
   "codemirror_mode": {
    "name": "ipython",
    "version": 3
   },
   "file_extension": ".py",
   "mimetype": "text/x-python",
   "name": "python",
   "nbconvert_exporter": "python",
   "pygments_lexer": "ipython3",
   "version": "3.9.7"
  }
 },
 "nbformat": 4,
 "nbformat_minor": 5
}
