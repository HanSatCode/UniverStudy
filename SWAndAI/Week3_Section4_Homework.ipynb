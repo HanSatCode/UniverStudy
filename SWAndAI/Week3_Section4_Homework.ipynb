{
 "cells": [
  {
   "cell_type": "code",
   "execution_count": 11,
   "id": "4bca0392",
   "metadata": {},
   "outputs": [
    {
     "name": "stdout",
     "output_type": "stream",
     "text": [
      "19\n",
      "true\n"
     ]
    }
   ],
   "source": [
    "n = int(input())\n",
    "a = 2\n",
    "while a < n :\n",
    "    if n%a != 0 :\n",
    "        a += 1\n",
    "    else :\n",
    "        print(\"false\")\n",
    "        break\n",
    "else :\n",
    "    print(\"true\")"
   ]
  }
 ],
 "metadata": {
  "kernelspec": {
   "display_name": "Python 3 (ipykernel)",
   "language": "python",
   "name": "python3"
  },
  "language_info": {
   "codemirror_mode": {
    "name": "ipython",
    "version": 3
   },
   "file_extension": ".py",
   "mimetype": "text/x-python",
   "name": "python",
   "nbconvert_exporter": "python",
   "pygments_lexer": "ipython3",
   "version": "3.9.7"
  }
 },
 "nbformat": 4,
 "nbformat_minor": 5
}
