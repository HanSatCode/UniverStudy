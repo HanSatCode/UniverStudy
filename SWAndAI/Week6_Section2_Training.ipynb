{
 "cells": [
  {
   "cell_type": "code",
   "execution_count": 11,
   "id": "c3523d58",
   "metadata": {},
   "outputs": [],
   "source": [
    "import random\n",
    "\n",
    "S = set()\n",
    "T = set()\n",
    "\n",
    "while len(S) < 10 :\n",
    "    S.add(random.randint(1, 20))"
   ]
  },
  {
   "cell_type": "code",
   "execution_count": 12,
   "id": "f2459718",
   "metadata": {},
   "outputs": [
    {
     "data": {
      "text/plain": [
       "{7, 8, 9, 10, 11, 12, 14, 15, 16, 20}"
      ]
     },
     "execution_count": 12,
     "metadata": {},
     "output_type": "execute_result"
    }
   ],
   "source": [
    "S"
   ]
  },
  {
   "cell_type": "code",
   "execution_count": 13,
   "id": "495a4725",
   "metadata": {},
   "outputs": [
    {
     "data": {
      "text/plain": [
       "10"
      ]
     },
     "execution_count": 13,
     "metadata": {},
     "output_type": "execute_result"
    }
   ],
   "source": [
    "len(S)"
   ]
  },
  {
   "cell_type": "code",
   "execution_count": 14,
   "id": "46008141",
   "metadata": {},
   "outputs": [],
   "source": [
    "while len(T) < 10 :\n",
    "    T.add(random.randint(1, 20))"
   ]
  },
  {
   "cell_type": "code",
   "execution_count": 15,
   "id": "bccd979a",
   "metadata": {},
   "outputs": [
    {
     "data": {
      "text/plain": [
       "{3, 5, 6, 7, 9, 11, 12, 13, 16, 18}"
      ]
     },
     "execution_count": 15,
     "metadata": {},
     "output_type": "execute_result"
    }
   ],
   "source": [
    "T"
   ]
  },
  {
   "cell_type": "code",
   "execution_count": 16,
   "id": "3ba00dc0",
   "metadata": {},
   "outputs": [
    {
     "data": {
      "text/plain": [
       "10"
      ]
     },
     "execution_count": 16,
     "metadata": {},
     "output_type": "execute_result"
    }
   ],
   "source": [
    "len(T)"
   ]
  },
  {
   "cell_type": "code",
   "execution_count": 18,
   "id": "9f1e4be0",
   "metadata": {},
   "outputs": [
    {
     "data": {
      "text/plain": [
       "{7, 9, 11, 12, 16}"
      ]
     },
     "execution_count": 18,
     "metadata": {},
     "output_type": "execute_result"
    }
   ],
   "source": [
    "#교집합\n",
    "S & T"
   ]
  },
  {
   "cell_type": "code",
   "execution_count": 19,
   "id": "d68e2f2a",
   "metadata": {},
   "outputs": [
    {
     "data": {
      "text/plain": [
       "{3, 5, 6, 7, 8, 9, 10, 11, 12, 13, 14, 15, 16, 18, 20}"
      ]
     },
     "execution_count": 19,
     "metadata": {},
     "output_type": "execute_result"
    }
   ],
   "source": [
    "#합집합\n",
    "S | T"
   ]
  },
  {
   "cell_type": "code",
   "execution_count": 21,
   "id": "2a2e3828",
   "metadata": {},
   "outputs": [
    {
     "data": {
      "text/plain": [
       "{8, 10, 14, 15, 20}"
      ]
     },
     "execution_count": 21,
     "metadata": {},
     "output_type": "execute_result"
    }
   ],
   "source": [
    "#차집합\n",
    "S - T"
   ]
  },
  {
   "cell_type": "code",
   "execution_count": 23,
   "id": "b1bf3eab",
   "metadata": {},
   "outputs": [
    {
     "name": "stdout",
     "output_type": "stream",
     "text": [
      "문자열을 입력하세요: 영남대학교 컴퓨터공학과 Yeungnam University Compter Engineering\n"
     ]
    }
   ],
   "source": [
    "statement = input(\"문자열을 입력하세요: \")"
   ]
  },
  {
   "cell_type": "code",
   "execution_count": 25,
   "id": "ddf0fda1",
   "metadata": {},
   "outputs": [],
   "source": [
    "count = {}"
   ]
  },
  {
   "cell_type": "code",
   "execution_count": 27,
   "id": "f7bbfc5a",
   "metadata": {},
   "outputs": [],
   "source": [
    "for ch in statement :\n",
    "    count[ch] = count.get(ch, 0) + 1"
   ]
  },
  {
   "cell_type": "code",
   "execution_count": 28,
   "id": "becb2ae1",
   "metadata": {},
   "outputs": [
    {
     "data": {
      "text/plain": [
       "{'영': 1,\n",
       " '남': 1,\n",
       " '대': 1,\n",
       " '학': 2,\n",
       " '교': 1,\n",
       " ' ': 5,\n",
       " '컴': 1,\n",
       " '퓨': 1,\n",
       " '터': 1,\n",
       " '공': 1,\n",
       " '과': 1,\n",
       " 'Y': 1,\n",
       " 'e': 5,\n",
       " 'u': 1,\n",
       " 'n': 6,\n",
       " 'g': 3,\n",
       " 'a': 1,\n",
       " 'm': 2,\n",
       " 'U': 1,\n",
       " 'i': 4,\n",
       " 'v': 1,\n",
       " 'r': 3,\n",
       " 's': 1,\n",
       " 't': 2,\n",
       " 'y': 1,\n",
       " 'C': 1,\n",
       " 'o': 1,\n",
       " 'p': 1,\n",
       " 'E': 1}"
      ]
     },
     "execution_count": 28,
     "metadata": {},
     "output_type": "execute_result"
    }
   ],
   "source": [
    "count"
   ]
  },
  {
   "cell_type": "code",
   "execution_count": 29,
   "id": "bd552e63",
   "metadata": {},
   "outputs": [
    {
     "data": {
      "text/plain": [
       "6"
      ]
     },
     "execution_count": 29,
     "metadata": {},
     "output_type": "execute_result"
    }
   ],
   "source": [
    "max(count.values())"
   ]
  },
  {
   "cell_type": "code",
   "execution_count": 30,
   "id": "2fa55a03",
   "metadata": {},
   "outputs": [
    {
     "name": "stdout",
     "output_type": "stream",
     "text": [
      "n 6\n"
     ]
    }
   ],
   "source": [
    "for key in count :\n",
    "    if count[key] == max(count.values()) :\n",
    "        print(key,count[key])"
   ]
  }
 ],
 "metadata": {
  "kernelspec": {
   "display_name": "Python 3 (ipykernel)",
   "language": "python",
   "name": "python3"
  },
  "language_info": {
   "codemirror_mode": {
    "name": "ipython",
    "version": 3
   },
   "file_extension": ".py",
   "mimetype": "text/x-python",
   "name": "python",
   "nbconvert_exporter": "python",
   "pygments_lexer": "ipython3",
   "version": "3.9.7"
  }
 },
 "nbformat": 4,
 "nbformat_minor": 5
}
