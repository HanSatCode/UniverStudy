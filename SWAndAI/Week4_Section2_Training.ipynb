{
 "cells": [
  {
   "cell_type": "code",
   "execution_count": 2,
   "id": "1da1ba50",
   "metadata": {},
   "outputs": [
    {
     "name": "stdout",
     "output_type": "stream",
     "text": [
      "2부터 9사이의 정수를 입력하세요: 7\n",
      "7 단\n",
      "7 * 1 = 7\n",
      "7 * 2 = 14\n",
      "7 * 3 = 21\n",
      "7 * 4 = 28\n",
      "7 * 5 = 35\n",
      "7 * 6 = 42\n",
      "7 * 7 = 49\n",
      "7 * 8 = 56\n",
      "7 * 9 = 63\n"
     ]
    }
   ],
   "source": [
    "num = int(input(\"2부터 9사이의 정수를 입력하세요: \"))\n",
    "if num >= 2 and num <= 9 :\n",
    "    print(num, \"단\")\n",
    "    for x in range(1, 10) :\n",
    "        print(f\"{num} * {x} = {num * x}\")"
   ]
  },
  {
   "cell_type": "code",
   "execution_count": 6,
   "id": "20b620b4",
   "metadata": {},
   "outputs": [
    {
     "name": "stdout",
     "output_type": "stream",
     "text": [
      "항의 번호를 입력하세요: 20\n",
      "20번째 피보나치 항 = 6765\n"
     ]
    }
   ],
   "source": [
    "n = int(input(\"항의 번호를 입력하세요: \"))\n",
    "f1 = f2 = 1\n",
    "if n == 1 or n == 2 :\n",
    "    print(f\"{n}번째 피보나치 항 = 1\")\n",
    "elif n > 2 :\n",
    "    for x in range(n - 2) :\n",
    "        f3 = f1 + f2\n",
    "        f1 = f2\n",
    "        f2 = f3\n",
    "    print(f'{n}번째 피보나치 항 = {f3}')"
   ]
  }
 ],
 "metadata": {
  "kernelspec": {
   "display_name": "Python 3 (ipykernel)",
   "language": "python",
   "name": "python3"
  },
  "language_info": {
   "codemirror_mode": {
    "name": "ipython",
    "version": 3
   },
   "file_extension": ".py",
   "mimetype": "text/x-python",
   "name": "python",
   "nbconvert_exporter": "python",
   "pygments_lexer": "ipython3",
   "version": "3.9.7"
  }
 },
 "nbformat": 4,
 "nbformat_minor": 5
}
