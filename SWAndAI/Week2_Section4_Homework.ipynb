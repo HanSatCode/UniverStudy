{
 "cells": [
  {
   "cell_type": "code",
   "execution_count": 8,
   "id": "af7e0828",
   "metadata": {},
   "outputs": [
    {
     "name": "stdout",
     "output_type": "stream",
     "text": [
      "인터넷 속도 (Mbps) : 100\n",
      "다운로드 받을 파일의 크기 (Gbyte) : 2\n",
      "다운로드 하는데 걸리는 시간은 0시간 2분 43분 입니다.\n"
     ]
    }
   ],
   "source": [
    "speed = int(input('인터넷 속도 (Mbps) : '))\n",
    "download = int(input('다운로드 받을 파일의 크기 (Gbyte) : '))\n",
    "result_second = int((download * (2 ** 30) * 8) / (speed * (2 ** 20)))\n",
    "print(f'다운로드 하는데 걸리는 시간은 {result_second//3600}시간 {result_second%3600//60}분 {result_second%3600%60}분 입니다.')"
   ]
  },
  {
   "cell_type": "code",
   "execution_count": null,
   "id": "3bd93ee5",
   "metadata": {},
   "outputs": [],
   "source": []
  }
 ],
 "metadata": {
  "kernelspec": {
   "display_name": "Python 3 (ipykernel)",
   "language": "python",
   "name": "python3"
  },
  "language_info": {
   "codemirror_mode": {
    "name": "ipython",
    "version": 3
   },
   "file_extension": ".py",
   "mimetype": "text/x-python",
   "name": "python",
   "nbconvert_exporter": "python",
   "pygments_lexer": "ipython3",
   "version": "3.9.7"
  }
 },
 "nbformat": 4,
 "nbformat_minor": 5
}
