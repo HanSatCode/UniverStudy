{
 "cells": [
  {
   "cell_type": "code",
   "execution_count": 8,
   "id": "5ffc8a85",
   "metadata": {},
   "outputs": [
    {
     "name": "stdout",
     "output_type": "stream",
     "text": [
      "+ 치즈\n",
      "+ 물고기\n",
      "+ 땃쥐\n",
      "- 땃쥐\n",
      "- 땃쥐\n",
      "땃쥐(이)란 것은 냉장고에 없어요.\n",
      "x\n",
      "치즈 물고기 "
     ]
    }
   ],
   "source": [
    "frige = []\n",
    "while True :\n",
    "    x = str(input())\n",
    "    if x[0] == 'x' :\n",
    "        break\n",
    "    else :\n",
    "        if x[0] == '+' :\n",
    "            frige.append(str(x[2:]))\n",
    "        elif x[0] == '-' :\n",
    "            if x[2:] not in frige :\n",
    "                print(f'{x[2:]}(이)란 것은 냉장고에 없어요.')\n",
    "            else :\n",
    "                frige.remove(str(x[2:]))\n",
    "        else :\n",
    "            print('그런 기호는 없어요.')\n",
    "\n",
    "for y in range(len(frige)) :\n",
    "    print(frige[y], end=' ')"
   ]
  },
  {
   "cell_type": "code",
   "execution_count": 7,
   "id": "e7a9b57c",
   "metadata": {},
   "outputs": [
    {
     "name": "stdout",
     "output_type": "stream",
     "text": [
      "번호를 입력해 주세요 : 77\n",
      "숫자의 범위를 벗어났습니다. 다시 입력해주세요.\n",
      "번호를 입력해 주세요 : 20\n",
      "번호를 입력해 주세요 : 30\n",
      "번호를 입력해 주세요 : 40\n",
      "번호를 입력해 주세요 : 22\n",
      "번호를 입력해 주세요 : 10\n",
      "번호를 입력해 주세요 : 9\n",
      "꽝!: 그 외\n"
     ]
    }
   ],
   "source": [
    "import random\n",
    "\n",
    "user = []\n",
    "correct = []\n",
    "counter = 0\n",
    "result = 0\n",
    "\n",
    "while True :\n",
    "    if len(user) == 6 :\n",
    "        counter = 0\n",
    "        break\n",
    "    num = int(input('번호를 입력해 주세요 : '))\n",
    "    if num <= 45 and num >= 1 :\n",
    "        user.append(num)\n",
    "        counter += 1\n",
    "    else :\n",
    "        print('숫자의 범위를 벗어났습니다. 다시 입력해주세요.')\n",
    "\n",
    "while True :\n",
    "    if counter == 6 :\n",
    "        break\n",
    "    num = random.randint(1, 45)\n",
    "    if num not in correct :\n",
    "        correct.append(num)\n",
    "        counter += 1\n",
    "\n",
    "for x in range(6) :\n",
    "    if user[x] in correct :\n",
    "        result += 1\n",
    "else :\n",
    "    if result == 6 :\n",
    "        print('1등: 6개 모두 일치')\n",
    "    elif result == 5 :\n",
    "        print('2등: 5개 번호가 일치')\n",
    "    elif result == 4 :\n",
    "        print('3등: 4개 번호가 일치')\n",
    "    elif result == 3 :\n",
    "        print('4등: 3개 번호가 일치')\n",
    "    else :\n",
    "        print('꽝!: 그 외')\n",
    "    "
   ]
  }
 ],
 "metadata": {
  "kernelspec": {
   "display_name": "Python 3 (ipykernel)",
   "language": "python",
   "name": "python3"
  },
  "language_info": {
   "codemirror_mode": {
    "name": "ipython",
    "version": 3
   },
   "file_extension": ".py",
   "mimetype": "text/x-python",
   "name": "python",
   "nbconvert_exporter": "python",
   "pygments_lexer": "ipython3",
   "version": "3.9.7"
  }
 },
 "nbformat": 4,
 "nbformat_minor": 5
}
