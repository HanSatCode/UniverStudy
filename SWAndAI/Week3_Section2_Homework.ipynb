{
 "cells": [
  {
   "cell_type": "code",
   "execution_count": 3,
   "id": "8ffab34f",
   "metadata": {},
   "outputs": [
    {
     "name": "stdout",
     "output_type": "stream",
     "text": [
      "년도를 입력하시오: 2104\n",
      "윤년입니다.\n"
     ]
    }
   ],
   "source": [
    "year = int(input(\"년도를 입력하시오: \"))\n",
    "if year % 400 == 0 :\n",
    "    print(\"윤년입니다.\")\n",
    "elif year % 4 == 0 and year % 100 != 0 :\n",
    "    print(\"윤년입니다.\")\n",
    "else :\n",
    "    print(\"윤년이 아닙니다.\")"
   ]
  }
 ],
 "metadata": {
  "kernelspec": {
   "display_name": "Python 3 (ipykernel)",
   "language": "python",
   "name": "python3"
  },
  "language_info": {
   "codemirror_mode": {
    "name": "ipython",
    "version": 3
   },
   "file_extension": ".py",
   "mimetype": "text/x-python",
   "name": "python",
   "nbconvert_exporter": "python",
   "pygments_lexer": "ipython3",
   "version": "3.9.7"
  }
 },
 "nbformat": 4,
 "nbformat_minor": 5
}
