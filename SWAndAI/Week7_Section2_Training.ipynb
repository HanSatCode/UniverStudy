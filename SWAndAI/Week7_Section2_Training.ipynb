{
 "cells": [
  {
   "cell_type": "code",
   "execution_count": 25,
   "id": "93bbaf05",
   "metadata": {},
   "outputs": [
    {
     "name": "stdout",
     "output_type": "stream",
     "text": [
      "생일 축하합니다 !\n",
      "생일 축하합니다 !\n",
      "사랑하는 친구의 생일축하 합니다 !\n"
     ]
    }
   ],
   "source": [
    "def happyBirthday() :\n",
    "    print('생일 축하합니다 !\\n생일 축하합니다 !\\n사랑하는 친구의 생일축하 합니다 !')\n",
    "\n",
    "happyBirthday()"
   ]
  },
  {
   "cell_type": "code",
   "execution_count": 23,
   "id": "d442070a",
   "metadata": {},
   "outputs": [
    {
     "name": "stdout",
     "output_type": "stream",
     "text": [
      "화씨온도를 입력하시오: 32.0\n",
      "0.0\n"
     ]
    }
   ],
   "source": [
    "def FtoC(temp_f) :\n",
    "    temp_c = (5.0 * (temp_f - 32.0)) // 9.0\n",
    "    return temp_c\n",
    "\n",
    "temp_f = float(input(\"화씨온도를 입력하시오: \"))\n",
    "\n",
    "print(FtoC(temp_f))"
   ]
  },
  {
   "cell_type": "code",
   "execution_count": 22,
   "id": "f66cfeb2",
   "metadata": {},
   "outputs": [
    {
     "name": "stdout",
     "output_type": "stream",
     "text": [
      "정수를 입력하시오 : 101\n",
      "True\n"
     ]
    }
   ],
   "source": [
    "def is_prime(num) :\n",
    "    for x in range(2, num) :\n",
    "        if num%x == 0 :\n",
    "            return False\n",
    "            break\n",
    "    else :\n",
    "        return True\n",
    "\n",
    "temp = int(input('정수를 입력하시오 : '))\n",
    "print(is_prime(temp))"
   ]
  },
  {
   "cell_type": "code",
   "execution_count": 21,
   "id": "c1854f3e",
   "metadata": {},
   "outputs": [
    {
     "name": "stdout",
     "output_type": "stream",
     "text": [
      "구의 반지름을 입력하시오: 10\n",
      "4188.790204786391\n"
     ]
    }
   ],
   "source": [
    "import math\n",
    "\n",
    "def sphereVolume(r) :\n",
    "    volume = 4/3*math.pi*(r**3)\n",
    "    return volume\n",
    "\n",
    "radius = float(input(\"구의 반지름을 입력하시오: \"))\n",
    "\n",
    "print(sphereVolume(radius))"
   ]
  },
  {
   "cell_type": "code",
   "execution_count": null,
   "id": "93ced5a7",
   "metadata": {},
   "outputs": [],
   "source": []
  }
 ],
 "metadata": {
  "kernelspec": {
   "display_name": "Python 3 (ipykernel)",
   "language": "python",
   "name": "python3"
  },
  "language_info": {
   "codemirror_mode": {
    "name": "ipython",
    "version": 3
   },
   "file_extension": ".py",
   "mimetype": "text/x-python",
   "name": "python",
   "nbconvert_exporter": "python",
   "pygments_lexer": "ipython3",
   "version": "3.9.7"
  }
 },
 "nbformat": 4,
 "nbformat_minor": 5
}
