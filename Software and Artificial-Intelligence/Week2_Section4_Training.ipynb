{
 "cells": [
  {
   "cell_type": "code",
   "execution_count": 17,
   "id": "311caede",
   "metadata": {},
   "outputs": [],
   "source": [
    "pizza = 15000\n",
    "chicken =  7000\n",
    "cake = 3000"
   ]
  },
  {
   "cell_type": "code",
   "execution_count": 2,
   "id": "aa75496f",
   "metadata": {},
   "outputs": [
    {
     "name": "stdout",
     "output_type": "stream",
     "text": [
      "예산을 입력하세요: 50000\n"
     ]
    }
   ],
   "source": [
    "budget = int(input(\"예산을 입력하세요: \"))"
   ]
  },
  {
   "cell_type": "code",
   "execution_count": 6,
   "id": "1e739ad8",
   "metadata": {},
   "outputs": [],
   "source": [
    "num_pizza = budget // pizza"
   ]
  },
  {
   "cell_type": "code",
   "execution_count": 7,
   "id": "83646b32",
   "metadata": {},
   "outputs": [],
   "source": [
    "budget = budget - pizza * num_pizza"
   ]
  },
  {
   "cell_type": "code",
   "execution_count": 10,
   "id": "71722bf2",
   "metadata": {},
   "outputs": [],
   "source": [
    "num_chicken = budget // chicken"
   ]
  },
  {
   "cell_type": "code",
   "execution_count": 11,
   "id": "546175ef",
   "metadata": {},
   "outputs": [],
   "source": [
    "budget = budget - chicken * num_chicken"
   ]
  },
  {
   "cell_type": "code",
   "execution_count": 13,
   "id": "21a86e2e",
   "metadata": {},
   "outputs": [],
   "source": [
    "num_cake = budget // cake\n",
    "budget = budget - cake * num_cake"
   ]
  },
  {
   "cell_type": "code",
   "execution_count": 16,
   "id": "5ac72236",
   "metadata": {},
   "outputs": [
    {
     "name": "stdout",
     "output_type": "stream",
     "text": [
      "피자 3판, 치킨 0마리, 떡볶이 1인분, 잔돈 2000원\n"
     ]
    }
   ],
   "source": [
    "print(f'피자 {num_pizza}판, 치킨 {num_chicken}마리, 떡볶이 {num_cake}인분, 잔돈 {budget}원')"
   ]
  },
  {
   "cell_type": "code",
   "execution_count": 21,
   "id": "2b6a85bb",
   "metadata": {},
   "outputs": [
    {
     "name": "stdout",
     "output_type": "stream",
     "text": [
      "예산을 입력하세요: 67000\n",
      "피자 4판, 치킨 1마리, 떡볶이 0인분, 잔돈 0원\n"
     ]
    }
   ],
   "source": [
    "pizza = 15000\n",
    "chicken =  7000\n",
    "cake = 3000\n",
    "\n",
    "budget = int(input(\"예산을 입력하세요: \"))\n",
    "\n",
    "num_pizza = budget // pizza\n",
    "budget = budget - pizza * num_pizza\n",
    "num_chicken = budget // chicken\n",
    "budget = budget - chicken * num_chicken\n",
    "num_cake = budget // cake\n",
    "budget = budget - cake * num_cake\n",
    "\n",
    "print(f'피자 {num_pizza}판, 치킨 {num_chicken}마리, 떡볶이 {num_cake}인분, 잔돈 {budget}원')"
   ]
  }
 ],
 "metadata": {
  "kernelspec": {
   "display_name": "Python 3 (ipykernel)",
   "language": "python",
   "name": "python3"
  },
  "language_info": {
   "codemirror_mode": {
    "name": "ipython",
    "version": 3
   },
   "file_extension": ".py",
   "mimetype": "text/x-python",
   "name": "python",
   "nbconvert_exporter": "python",
   "pygments_lexer": "ipython3",
   "version": "3.9.7"
  }
 },
 "nbformat": 4,
 "nbformat_minor": 5
}
