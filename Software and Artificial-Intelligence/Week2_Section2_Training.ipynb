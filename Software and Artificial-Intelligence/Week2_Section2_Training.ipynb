{
 "cells": [
  {
   "cell_type": "code",
   "execution_count": 5,
   "id": "62485b1a",
   "metadata": {},
   "outputs": [
    {
     "name": "stdout",
     "output_type": "stream",
     "text": [
      "섭씨 온도를 입력하세요: 25.7\n",
      "섭씨 25.7도는 화씨 78.26도 입니다.\n"
     ]
    }
   ],
   "source": [
    "C = float(input(\"섭씨 온도를 입력하세요: \"))\n",
    "F = 9 / 5 * C + 32\n",
    "print(f'섭씨 {C}도는 화씨 {F:.2f}도 입니다.')"
   ]
  },
  {
   "cell_type": "code",
   "execution_count": 6,
   "id": "0495326b",
   "metadata": {},
   "outputs": [
    {
     "name": "stdout",
     "output_type": "stream",
     "text": [
      "네 자리 정수를 입력하세요: 1234\n",
      "1234\n"
     ]
    }
   ],
   "source": [
    "num = int(input(\"네 자리 정수를 입력하세요: \"))"
   ]
  },
  {
   "cell_type": "code",
   "execution_count": 11,
   "id": "79a1175b",
   "metadata": {},
   "outputs": [
    {
     "name": "stdout",
     "output_type": "stream",
     "text": [
      "자릿수의 합은 10 입니다.\n"
     ]
    }
   ],
   "source": [
    "d1000 = num // 1000\n",
    "d100 = num // 100 % 10\n",
    "d10 = num // 10 % 10\n",
    "d1 = num % 10\n",
    "\n",
    "print(f'자릿수의 합은 {d1000 + d100 + d10 + d1} 입니다.')"
   ]
  },
  {
   "cell_type": "code",
   "execution_count": 7,
   "id": "df4eaa9e",
   "metadata": {},
   "outputs": [
    {
     "name": "stdout",
     "output_type": "stream",
     "text": [
      "1\n"
     ]
    }
   ],
   "source": [
    "print(num // 1000)"
   ]
  },
  {
   "cell_type": "code",
   "execution_count": 8,
   "id": "61962a51",
   "metadata": {},
   "outputs": [
    {
     "name": "stdout",
     "output_type": "stream",
     "text": [
      "2\n"
     ]
    }
   ],
   "source": [
    "print(num // 100 % 10)"
   ]
  },
  {
   "cell_type": "code",
   "execution_count": 9,
   "id": "e70a9a04",
   "metadata": {},
   "outputs": [
    {
     "name": "stdout",
     "output_type": "stream",
     "text": [
      "3\n"
     ]
    }
   ],
   "source": [
    "print(num // 10 % 10)"
   ]
  },
  {
   "cell_type": "code",
   "execution_count": 10,
   "id": "d68ddc65",
   "metadata": {},
   "outputs": [
    {
     "name": "stdout",
     "output_type": "stream",
     "text": [
      "4\n"
     ]
    }
   ],
   "source": [
    "print(num % 10)"
   ]
  }
 ],
 "metadata": {
  "kernelspec": {
   "display_name": "Python 3 (ipykernel)",
   "language": "python",
   "name": "python3"
  },
  "language_info": {
   "codemirror_mode": {
    "name": "ipython",
    "version": 3
   },
   "file_extension": ".py",
   "mimetype": "text/x-python",
   "name": "python",
   "nbconvert_exporter": "python",
   "pygments_lexer": "ipython3",
   "version": "3.9.7"
  }
 },
 "nbformat": 4,
 "nbformat_minor": 5
}
