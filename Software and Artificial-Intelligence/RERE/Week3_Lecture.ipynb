{
 "cells": [
  {
   "cell_type": "code",
   "execution_count": 3,
   "id": "8e5196c5",
   "metadata": {},
   "outputs": [
    {
     "name": "stdout",
     "output_type": "stream",
     "text": [
      "입력: -10\n",
      "출력: 10\n"
     ]
    }
   ],
   "source": [
    "num = int(input('입력: '))\n",
    "if num < 0 :\n",
    "    print('출력: {}'.format(-num))\n",
    "else :\n",
    "    print('출력: {}'.format(num))"
   ]
  },
  {
   "cell_type": "code",
   "execution_count": 5,
   "id": "d897f8ce",
   "metadata": {},
   "outputs": [
    {
     "name": "stdout",
     "output_type": "stream",
     "text": [
      "입력: 40 10\n",
      "출력: 30\n"
     ]
    }
   ],
   "source": [
    "x, y = input('입력: ').split()\n",
    "x, y = int(x), int(y)\n",
    "\n",
    "if x > y :\n",
    "    print('출력: %d' %(x-y))\n",
    "else :\n",
    "    print('출력: %d' %(y-x))"
   ]
  },
  {
   "cell_type": "code",
   "execution_count": 12,
   "id": "c535ae7a",
   "metadata": {},
   "outputs": [
    {
     "name": "stdout",
     "output_type": "stream",
     "text": [
      "첫번째 퀴즈 점수: 20\n",
      "두번째 퀴즈 점수: 15\n",
      "시험 점수: 50\n",
      "우수\n"
     ]
    }
   ],
   "source": [
    "quiz1 = int(input('첫번째 퀴즈 점수: '))\n",
    "quiz2 = int(input('두번째 퀴즈 점수: '))\n",
    "test = int(input('시험 점수: '))\n",
    "result = quiz1 + quiz2 + test\n",
    "\n",
    "if test < 30 :\n",
    "    print('실패')\n",
    "else : \n",
    "    if result >= 60 :\n",
    "        if result >= 90 :\n",
    "            print('탁월')\n",
    "        elif result >= 80 and result < 90 :\n",
    "            print('우수')\n",
    "        else :\n",
    "            print('양호')\n",
    "    else :\n",
    "        print('실패')"
   ]
  },
  {
   "cell_type": "code",
   "execution_count": 15,
   "id": "5d943df5",
   "metadata": {},
   "outputs": [
    {
     "name": "stdout",
     "output_type": "stream",
     "text": [
      "연도 입력: 2000\n",
      "윤년입니다.\n"
     ]
    }
   ],
   "source": [
    "year = int(input('연도 입력: '))\n",
    "if year%400 == 0 :\n",
    "    print('윤년입니다.')\n",
    "elif year%4 == 0 and year%100 != 0 :\n",
    "    print('윤년입니다.')\n",
    "else :\n",
    "    print('윤년이 아닙니다.')"
   ]
  },
  {
   "cell_type": "code",
   "execution_count": 16,
   "id": "98a131eb",
   "metadata": {},
   "outputs": [
    {
     "name": "stdout",
     "output_type": "stream",
     "text": [
      "2부터 9사이의 정수를 입력: 5\n",
      "5 * 1 = 5\n",
      "5 * 2 = 10\n",
      "5 * 3 = 15\n",
      "5 * 4 = 20\n",
      "5 * 5 = 25\n",
      "5 * 6 = 30\n",
      "5 * 7 = 35\n",
      "5 * 8 = 40\n",
      "5 * 9 = 45\n"
     ]
    }
   ],
   "source": [
    "num = int(input('2부터 9사이의 정수를 입력: '))\n",
    "n = 1\n",
    "while n <= 9 :\n",
    "    print('{} * {} = {}'.format(num, n, num*n))\n",
    "    n += 1"
   ]
  },
  {
   "cell_type": "code",
   "execution_count": 18,
   "id": "4fe3a1c7",
   "metadata": {},
   "outputs": [
    {
     "name": "stdout",
     "output_type": "stream",
     "text": [
      "학생 1의 성적:77\n",
      "학생 2의 성적:88\n",
      "학생 3의 성적:82\n",
      "학생 4의 성적:54\n",
      "학생 5의 성적:96\n",
      "학생 6의 성적:65\n",
      "학생 7의 성적:91\n",
      "학생 8의 성적:85\n",
      "학생 9의 성적:43\n",
      "학생 10의 성적:90\n",
      "평균 = 77.1\n"
     ]
    }
   ],
   "source": [
    "score = 0\n",
    "n = 1\n",
    "while n <= 10 :\n",
    "    score += int(input('학생 %d의 성적:' %(n)))\n",
    "    n += 1\n",
    "print('평균 = {:.1f}'.format(score/10))"
   ]
  },
  {
   "cell_type": "code",
   "execution_count": 24,
   "id": "3aaf5ce2",
   "metadata": {},
   "outputs": [
    {
     "name": "stdout",
     "output_type": "stream",
     "text": [
      "학생 1의 성적: 57\n",
      "학생 2의 성적: 63\n",
      "학생 3의 성적: 88\n",
      "학생 4의 성적: 96\n",
      "학생 5의 성적: -1\n",
      "평균 = 76.0\n"
     ]
    }
   ],
   "source": [
    "n = 1\n",
    "scoreSum = 0\n",
    "while True :\n",
    "    score = int(input('학생 {}의 성적: '.format(n)))\n",
    "    if score == -1 :\n",
    "        break\n",
    "    else :\n",
    "        scoreSum += score\n",
    "        n += 1\n",
    "print(f'평균 = {scoreSum//(n-1):.1f}')"
   ]
  },
  {
   "cell_type": "code",
   "execution_count": 26,
   "id": "498afb1d",
   "metadata": {},
   "outputs": [
    {
     "name": "stdout",
     "output_type": "stream",
     "text": [
      "입력: 27\n",
      "false\n"
     ]
    }
   ],
   "source": [
    "n = int(input('입력: '))\n",
    "a = 2\n",
    "while a<n :\n",
    "    if n%a == 0 :\n",
    "        print('false')\n",
    "        break\n",
    "    a += 1\n",
    "else :\n",
    "    print('true')"
   ]
  }
 ],
 "metadata": {
  "kernelspec": {
   "display_name": "Python 3 (ipykernel)",
   "language": "python",
   "name": "python3"
  },
  "language_info": {
   "codemirror_mode": {
    "name": "ipython",
    "version": 3
   },
   "file_extension": ".py",
   "mimetype": "text/x-python",
   "name": "python",
   "nbconvert_exporter": "python",
   "pygments_lexer": "ipython3",
   "version": "3.9.7"
  }
 },
 "nbformat": 4,
 "nbformat_minor": 5
}
