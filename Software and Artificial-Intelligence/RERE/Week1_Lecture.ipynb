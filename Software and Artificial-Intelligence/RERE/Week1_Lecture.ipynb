{
 "cells": [
  {
   "cell_type": "code",
   "execution_count": 13,
   "id": "dfd05882",
   "metadata": {},
   "outputs": [
    {
     "name": "stdout",
     "output_type": "stream",
     "text": [
      "/********************************\n",
      "*                               *\n",
      "*         이름 : 홍길동         *\n",
      "*         나이 : 20             *\n",
      "*         주소 : 대구광역시     *\n",
      "*                               *\n",
      "********************************/\n"
     ]
    }
   ],
   "source": [
    "print(\"/\" + \"*\"*32)\n",
    "print(\"*\"  + \" \"*31 + \"*\")\n",
    "print(\"*\" + \" \"*9 + \"이름 : 홍길동\" + \" \"*9 + \"*\")\n",
    "print(\"*\" + \" \"*9 + \"나이 : 20\" + \" \"*13 + \"*\")\n",
    "print(\"*\" + \" \"*9 + \"주소 : 대구광역시\" + \" \"*5+\"*\")\n",
    "print(\"*\" + \" \"*31 + \"*\")\n",
    "print(\"*\"*32 + \"/\")"
   ]
  },
  {
   "cell_type": "code",
   "execution_count": 15,
   "id": "218a8131",
   "metadata": {},
   "outputs": [
    {
     "name": "stdout",
     "output_type": "stream",
     "text": [
      "반지름이 r인 원의 면적 = 28.27431\n",
      "반지름이 r인 구의 부피 = 113.09723999999999\n"
     ]
    }
   ],
   "source": [
    "pi = 3.14159\n",
    "r = 3\n",
    "print(f\"반지름이 r인 원의 면적 = {pi*(r**2)}\")\n",
    "print(f\"반지름이 r인 구의 부피 = {4/3*pi*(r**3)}\")"
   ]
  },
  {
   "cell_type": "code",
   "execution_count": 17,
   "id": "99cfee09",
   "metadata": {},
   "outputs": [
    {
     "name": "stdout",
     "output_type": "stream",
     "text": [
      "(x1, y1), (x2, y2)의 중심점의 좌표 = 3.3, 3.95\n",
      "(x1, y1), (x2, y2)의 rjfl = 4.0853396431631\n"
     ]
    }
   ],
   "source": [
    "import math\n",
    "x1, y1 = 5.2, 4.7\n",
    "x2, y2 = 1.4, 3.2\n",
    "print(f\"(x1, y1), (x2, y2)의 중심점의 좌표 = {(x1 + x2)/2}, {(y1 + y2)/2}\")\n",
    "print(f\"(x1, y1), (x2, y2)의 rjfl = {math.sqrt((x2 - x1)**2 + (y2 - y1)**2)}\")"
   ]
  }
 ],
 "metadata": {
  "kernelspec": {
   "display_name": "Python 3 (ipykernel)",
   "language": "python",
   "name": "python3"
  },
  "language_info": {
   "codemirror_mode": {
    "name": "ipython",
    "version": 3
   },
   "file_extension": ".py",
   "mimetype": "text/x-python",
   "name": "python",
   "nbconvert_exporter": "python",
   "pygments_lexer": "ipython3",
   "version": "3.9.7"
  }
 },
 "nbformat": 4,
 "nbformat_minor": 5
}
