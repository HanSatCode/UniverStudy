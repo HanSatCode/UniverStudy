{
 "cells": [
  {
   "cell_type": "code",
   "execution_count": 6,
   "id": "5acee9d0",
   "metadata": {},
   "outputs": [
    {
     "name": "stdout",
     "output_type": "stream",
     "text": [
      "1번째 사람: 10\n",
      "2번째 사람: 20\n",
      "3번째 사람: 30\n",
      "4번째 사람: 40\n",
      "5번째 사람: 90\n",
      "[90, 40, 30, 20, 10]\n",
      "90 10\n",
      "190 38.0\n",
      "1\n"
     ]
    }
   ],
   "source": [
    "score = []\n",
    "for x in range(1,6) :\n",
    "    score.append(int(input('%d번째 사람: ' %(x))))\n",
    "print(sorted(score, reverse=True))\n",
    "print(max(score), min(score))\n",
    "print(sum(score), sum(score)/5)\n",
    "print(len([x for x in score if x >= 90]))"
   ]
  },
  {
   "cell_type": "code",
   "execution_count": 8,
   "id": "42913265",
   "metadata": {},
   "outputs": [
    {
     "name": "stdout",
     "output_type": "stream",
     "text": [
      "냉장고에 넣을 것: 사과\n",
      "포멧이 잘못되었습니다.\n",
      "냉장고에 넣을 것: + 사과\n",
      "['사과']\n",
      "냉장고에 넣을 것: + 물\n",
      "['사과', '물']\n",
      "냉장고에 넣을 것: - 물\n",
      "['사과']\n",
      "냉장고에 넣을 것: - 물\n",
      "들어있지 않습니다.\n",
      "냉장고에 넣을 것: + 고기\n",
      "['사과', '고기']\n",
      "냉장고에 넣을 것: x\n"
     ]
    }
   ],
   "source": [
    "box = []\n",
    "\n",
    "while True :\n",
    "    addBox = input(\"냉장고에 넣을 것: \")\n",
    "    if addBox[0] == 'x' :\n",
    "        break\n",
    "    else :\n",
    "        if addBox[0] == '+' :\n",
    "            box.append(addBox[2:])\n",
    "            print(box)\n",
    "        elif addBox[0] == '-' :\n",
    "            if addBox[2:] not in box :\n",
    "                print('들어있지 않습니다.')\n",
    "            else :\n",
    "                box.remove(addBox[2:])\n",
    "                print(box)\n",
    "        else :\n",
    "            print('포멧이 잘못되었습니다.')\n",
    "        "
   ]
  },
  {
   "cell_type": "code",
   "execution_count": 17,
   "id": "d873b08c",
   "metadata": {},
   "outputs": [
    {
     "name": "stdout",
     "output_type": "stream",
     "text": [
      "숫자를 입력하세요: 20\n",
      "숫자를 입력하세요: 30\n",
      "숫자를 입력하세요: 40\n",
      "숫자를 입력하세요: 10\n",
      "숫자를 입력하세요: 17\n",
      "숫자를 입력하세요: 44\n",
      "꽝!\n"
     ]
    }
   ],
   "source": [
    "import random\n",
    "lotto = []\n",
    "user = []\n",
    "get = 0\n",
    "\n",
    "while len(lotto) < 6 :\n",
    "    num = random.randint(1, 45)\n",
    "    if num not in lotto :\n",
    "        lotto.append(num)\n",
    "    else :\n",
    "        continue\n",
    "\n",
    "while len(user) < 6 :\n",
    "    num = int(input('숫자를 입력하세요: '))\n",
    "    if num >= 1 and num <= 45 :\n",
    "        if num not in user :\n",
    "            user.append(num)\n",
    "        else :\n",
    "            print('중복됩니다.')\n",
    "    else :\n",
    "        print('범위를 벗어났습니다.')\n",
    "        \n",
    "for x in range(0, 6) :\n",
    "    if user[x] in lotto :\n",
    "        get += 1\n",
    "\n",
    "if get == 6 :\n",
    "    print('1등')\n",
    "elif get == 5 :\n",
    "    print('2등')\n",
    "elif get == 4 :\n",
    "    print('3등')\n",
    "elif get == 3 :\n",
    "    print('4등')\n",
    "else :\n",
    "    print('꽝!')"
   ]
  },
  {
   "cell_type": "code",
   "execution_count": 22,
   "id": "f135a44a",
   "metadata": {},
   "outputs": [
    {
     "name": "stdout",
     "output_type": "stream",
     "text": [
      "문장을 입력하세요: 오늘은 4월 6일 월요일입니다. 날씨가 좋네요...\n",
      "단어수 = 6\n",
      "세번째로 입력한 단어 = 6일\n",
      "['4월', '6일', '날씨가', '오늘은', '월요일입니다.', '좋네요...']\n"
     ]
    }
   ],
   "source": [
    "a = tuple(input('문장을 입력하세요: ').split())\n",
    "print(f'단어수 = {len(a)}')\n",
    "print(f'세번째로 입력한 단어 = {a[2]}')\n",
    "print(f'{sorted(a)}')"
   ]
  },
  {
   "cell_type": "code",
   "execution_count": 27,
   "id": "28c351a6",
   "metadata": {},
   "outputs": [
    {
     "name": "stdout",
     "output_type": "stream",
     "text": [
      "문자열 입력 = abcafgabk\n",
      "문자 입력 = a\n",
      "3\n"
     ]
    }
   ],
   "source": [
    "s = tuple(input('문자열 입력 = '))\n",
    "q = input('문자 입력 = ')\n",
    "count = 0\n",
    "\n",
    "for x in range(0, len(s)) :\n",
    "    if q == s[x] :\n",
    "        count += 1\n",
    "print(count)"
   ]
  }
 ],
 "metadata": {
  "kernelspec": {
   "display_name": "Python 3 (ipykernel)",
   "language": "python",
   "name": "python3"
  },
  "language_info": {
   "codemirror_mode": {
    "name": "ipython",
    "version": 3
   },
   "file_extension": ".py",
   "mimetype": "text/x-python",
   "name": "python",
   "nbconvert_exporter": "python",
   "pygments_lexer": "ipython3",
   "version": "3.9.7"
  }
 },
 "nbformat": 4,
 "nbformat_minor": 5
}
