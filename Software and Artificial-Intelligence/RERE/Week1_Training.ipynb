{
 "cells": [
  {
   "cell_type": "code",
   "execution_count": 14,
   "id": "93c0bd39",
   "metadata": {},
   "outputs": [
    {
     "name": "stdout",
     "output_type": "stream",
     "text": [
      "좋아요좋아요좋아요좋아요좋아요좋아요좋아요좋아요좋아요좋아요\n",
      "Gooooooooooooooooooood\n",
      "아름다운 영남대학교아름다운 영남대학교아름다운 영남대학교\n"
     ]
    }
   ],
   "source": [
    "print('좋아요' * 10)\n",
    "print('G' + 'o'*20 + 'd')\n",
    "x, y = '아름다운', '영남대학교'\n",
    "print((x+' '+y)*3)"
   ]
  },
  {
   "cell_type": "code",
   "execution_count": 9,
   "id": "e71c5184",
   "metadata": {},
   "outputs": [
    {
     "name": "stdout",
     "output_type": "stream",
     "text": [
      "-29\n",
      "0.0\n",
      "-12\n",
      "0.08333333333333333\n"
     ]
    }
   ],
   "source": [
    "x, y = -2, 5\n",
    "print(2*x - 5*y)\n",
    "print(-(y/3) + y/3)\n",
    "print(x**y - 2*x*y)\n",
    "print((3*x+y)/(x-2*y))"
   ]
  },
  {
   "cell_type": "code",
   "execution_count": 11,
   "id": "e3388d64",
   "metadata": {},
   "outputs": [
    {
     "name": "stdout",
     "output_type": "stream",
     "text": [
      "-1.0\n",
      "-3.0\n"
     ]
    }
   ],
   "source": [
    "import math\n",
    "a, b, c = 1, 4, 3\n",
    "print((-b+math.sqrt(b**2 - 4*a*c))/2*a)\n",
    "print((-b-math.sqrt(b**2 - 4*a*c))/2*a)"
   ]
  }
 ],
 "metadata": {
  "kernelspec": {
   "display_name": "Python 3 (ipykernel)",
   "language": "python",
   "name": "python3"
  },
  "language_info": {
   "codemirror_mode": {
    "name": "ipython",
    "version": 3
   },
   "file_extension": ".py",
   "mimetype": "text/x-python",
   "name": "python",
   "nbconvert_exporter": "python",
   "pygments_lexer": "ipython3",
   "version": "3.9.7"
  }
 },
 "nbformat": 4,
 "nbformat_minor": 5
}
