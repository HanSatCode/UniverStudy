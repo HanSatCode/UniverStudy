{
 "cells": [
  {
   "cell_type": "code",
   "execution_count": 1,
   "id": "463917a7",
   "metadata": {},
   "outputs": [
    {
     "name": "stdout",
     "output_type": "stream",
     "text": [
      "섭씨 온도를 입력하세요: 25.7\n",
      "섭씨 온도 25.7도는 화씨 78.26도 입니다.\n"
     ]
    }
   ],
   "source": [
    "C = float(input(\"섭씨 온도를 입력하세요: \"))\n",
    "F = 9/5 * C + 32\n",
    "print(f\"섭씨 온도 {C}도는 화씨 {F:.2f}도 입니다.\")"
   ]
  },
  {
   "cell_type": "code",
   "execution_count": 2,
   "id": "66508d3d",
   "metadata": {},
   "outputs": [
    {
     "name": "stdout",
     "output_type": "stream",
     "text": [
      "네 자리 정수를 입력하세요: 1234\n",
      "각 자릿수의 합 = 10\n"
     ]
    }
   ],
   "source": [
    "num = int(input(\"네 자리 정수를 입력하세요: \"))\n",
    "num1000 = num//1000\n",
    "num100 = num%1000//100\n",
    "num10 = num%1000%100//10\n",
    "num1 = num%1000%100%10\n",
    "print(f\"각 자릿수의 합 = {num1000 + num100 + num10 + num1}\")"
   ]
  },
  {
   "cell_type": "code",
   "execution_count": 3,
   "id": "39be9822",
   "metadata": {},
   "outputs": [
    {
     "name": "stdout",
     "output_type": "stream",
     "text": [
      "자정부터 경과 시간을 초 단위로 입력 : 53457\n",
      "현재 시각 14시 50분 57초\n"
     ]
    }
   ],
   "source": [
    "sec = int(input(\"자정부터 경과 시간을 초 단위로 입력 : \"))\n",
    "hour = sec//3600\n",
    "minute = sec%3600//60\n",
    "second = sec%3600%60\n",
    "print(f\"현재 시각 = %d시 %d분 %d초\" %(hour, minute, second))"
   ]
  },
  {
   "cell_type": "code",
   "execution_count": 5,
   "id": "20533326",
   "metadata": {},
   "outputs": [],
   "source": [
    "import turtle\n",
    "\n",
    "wn = turtle.Screen()\n",
    "wn.bgcolor('light green')\n",
    "\n",
    "t = turtle.Turtle()\n",
    "t.color(\"red\")\n",
    "\n",
    "t.forward(200)\n",
    "t.left(120)\n",
    "t.forward(200)\n",
    "t.left(120)\n",
    "t.forward(200)\n",
    "\n",
    "turtle.mainloop()\n",
    "turtle.bye()"
   ]
  },
  {
   "cell_type": "code",
   "execution_count": 10,
   "id": "0739c542",
   "metadata": {},
   "outputs": [
    {
     "ename": "Terminator",
     "evalue": "",
     "output_type": "error",
     "traceback": [
      "\u001b[1;31m---------------------------------------------------------------------------\u001b[0m",
      "\u001b[1;31mTerminator\u001b[0m                                Traceback (most recent call last)",
      "\u001b[1;32m~\\AppData\\Local\\Temp/ipykernel_16704/3125898452.py\u001b[0m in \u001b[0;36m<module>\u001b[1;34m\u001b[0m\n\u001b[0;32m     18\u001b[0m \u001b[1;33m\u001b[0m\u001b[0m\n\u001b[0;32m     19\u001b[0m \u001b[0mturtle\u001b[0m\u001b[1;33m.\u001b[0m\u001b[0mmainloop\u001b[0m\u001b[1;33m(\u001b[0m\u001b[1;33m)\u001b[0m\u001b[1;33m\u001b[0m\u001b[1;33m\u001b[0m\u001b[0m\n\u001b[1;32m---> 20\u001b[1;33m \u001b[0mturtle\u001b[0m\u001b[1;33m.\u001b[0m\u001b[0mbye\u001b[0m\u001b[1;33m(\u001b[0m\u001b[1;33m)\u001b[0m\u001b[1;33m\u001b[0m\u001b[1;33m\u001b[0m\u001b[0m\n\u001b[0m",
      "\u001b[1;32m~\\miniconda3\\lib\\turtle.py\u001b[0m in \u001b[0;36mbye\u001b[1;34m()\u001b[0m\n",
      "\u001b[1;31mTerminator\u001b[0m: "
     ]
    }
   ],
   "source": [
    "import turtle\n",
    "\n",
    "wn = turtle.Screen()\n",
    "wn.bgcolor(\"light green\")\n",
    "\n",
    "t = turtle.Turtle()\n",
    "t.color(\"red\")\n",
    "\n",
    "t.forward(200)\n",
    "t.right(144)\n",
    "t.forward(200)\n",
    "t.right(144)\n",
    "t.forward(200)\n",
    "t.right(144)\n",
    "t.forward(200)\n",
    "t.right(144)\n",
    "t.forward(200)\n",
    "\n",
    "turtle.mainloop()\n",
    "turtle.bye()"
   ]
  },
  {
   "cell_type": "code",
   "execution_count": 2,
   "id": "ea81f117",
   "metadata": {},
   "outputs": [
    {
     "name": "stdout",
     "output_type": "stream",
     "text": [
      "인터넷 속도(Mbps)와 파일 크기(Gbyte)를 입력: 100 2\n",
      "0시간 2분 43초\n"
     ]
    }
   ],
   "source": [
    "speed, file = input(\"인터넷 속도(Mbps)와 파일 크기(Gbyte)를 입력: \").split()\n",
    "speed = int(speed) * 2 ** 20\n",
    "file = float(file) * 2 ** 30 * 8\n",
    "time = int(file/speed)\n",
    "print(f'{time//3600}시간 {time%3600//60}분 {time%3600%60}초')"
   ]
  }
 ],
 "metadata": {
  "kernelspec": {
   "display_name": "Python 3 (ipykernel)",
   "language": "python",
   "name": "python3"
  },
  "language_info": {
   "codemirror_mode": {
    "name": "ipython",
    "version": 3
   },
   "file_extension": ".py",
   "mimetype": "text/x-python",
   "name": "python",
   "nbconvert_exporter": "python",
   "pygments_lexer": "ipython3",
   "version": "3.9.7"
  }
 },
 "nbformat": 4,
 "nbformat_minor": 5
}
