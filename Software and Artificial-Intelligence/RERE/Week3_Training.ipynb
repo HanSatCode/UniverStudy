{
 "cells": [
  {
   "cell_type": "code",
   "execution_count": 3,
   "id": "89b1965d",
   "metadata": {},
   "outputs": [
    {
     "name": "stdout",
     "output_type": "stream",
     "text": [
      "입력: 1.2 4.3 2.5\n",
      "4.3\n"
     ]
    }
   ],
   "source": [
    "a, b, c = input('입력: ').split()\n",
    "a, b, c = float(a), float(b), float(c)\n",
    "\n",
    "if a > b :\n",
    "    if a > c :\n",
    "        print(a)\n",
    "    else :\n",
    "        print(c)\n",
    "else :\n",
    "    if b > c :\n",
    "        print(b)\n",
    "    else :\n",
    "        print(c)"
   ]
  },
  {
   "cell_type": "code",
   "execution_count": 8,
   "id": "47ac12c1",
   "metadata": {},
   "outputs": [
    {
     "name": "stdout",
     "output_type": "stream",
     "text": [
      "입력: 2\n",
      "1부터 n까지 짝수의 합: 2\n",
      "1부터 n까지 역수의 합: 1.5\n"
     ]
    }
   ],
   "source": [
    "n = int(input('입력: '))\n",
    "a = 2\n",
    "b = 1\n",
    "resultA = 0\n",
    "resultB = 0\n",
    "while a <= n :\n",
    "    resultA += a\n",
    "    a += 2\n",
    "while b <= n :\n",
    "    resultB += 1/b\n",
    "    b += 1\n",
    "print('1부터 n까지 짝수의 합: %d' %(resultA))\n",
    "print('1부터 n까지 역수의 합: {}'.format(resultB))"
   ]
  }
 ],
 "metadata": {
  "kernelspec": {
   "display_name": "Python 3 (ipykernel)",
   "language": "python",
   "name": "python3"
  },
  "language_info": {
   "codemirror_mode": {
    "name": "ipython",
    "version": 3
   },
   "file_extension": ".py",
   "mimetype": "text/x-python",
   "name": "python",
   "nbconvert_exporter": "python",
   "pygments_lexer": "ipython3",
   "version": "3.9.7"
  }
 },
 "nbformat": 4,
 "nbformat_minor": 5
}
