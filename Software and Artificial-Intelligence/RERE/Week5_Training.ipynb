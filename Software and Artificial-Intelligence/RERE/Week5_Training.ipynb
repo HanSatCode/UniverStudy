{
 "cells": [
  {
   "cell_type": "code",
   "execution_count": 1,
   "id": "8e118e31",
   "metadata": {},
   "outputs": [
    {
     "name": "stdout",
     "output_type": "stream",
     "text": [
      "[40, 30, 20, 10]\n"
     ]
    }
   ],
   "source": [
    "It = [10, 20, 30, 40]\n",
    "print(sorted(It, reverse=True))"
   ]
  },
  {
   "cell_type": "code",
   "execution_count": 2,
   "id": "2cf81a0e",
   "metadata": {},
   "outputs": [
    {
     "name": "stdout",
     "output_type": "stream",
     "text": [
      "[100, 400, 900, 1600]\n"
     ]
    }
   ],
   "source": [
    "It = [10, 20, 30, 40]\n",
    "print([x**2 for x in It])"
   ]
  },
  {
   "cell_type": "code",
   "execution_count": 14,
   "id": "2a3d0577",
   "metadata": {},
   "outputs": [
    {
     "name": "stdout",
     "output_type": "stream",
     "text": [
      "['안녕하세요', '안녕합니다', '내일하세요', '내일합니다', '사랑하세요', '사랑합니다']\n"
     ]
    }
   ],
   "source": [
    "It1 = ['안녕', '내일', '사랑']\n",
    "It2 = ['하세요', '합니다']\n",
    "print([x + y for x in It1 for y in It2])"
   ]
  },
  {
   "cell_type": "code",
   "execution_count": null,
   "id": "f8b2e0be",
   "metadata": {},
   "outputs": [],
   "source": []
  }
 ],
 "metadata": {
  "kernelspec": {
   "display_name": "Python 3 (ipykernel)",
   "language": "python",
   "name": "python3"
  },
  "language_info": {
   "codemirror_mode": {
    "name": "ipython",
    "version": 3
   },
   "file_extension": ".py",
   "mimetype": "text/x-python",
   "name": "python",
   "nbconvert_exporter": "python",
   "pygments_lexer": "ipython3",
   "version": "3.9.7"
  }
 },
 "nbformat": 4,
 "nbformat_minor": 5
}
