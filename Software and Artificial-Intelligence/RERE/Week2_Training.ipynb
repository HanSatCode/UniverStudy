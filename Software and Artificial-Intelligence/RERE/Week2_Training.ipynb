{
 "cells": [
  {
   "cell_type": "code",
   "execution_count": 3,
   "id": "98288cbd",
   "metadata": {},
   "outputs": [
    {
     "name": "stdout",
     "output_type": "stream",
     "text": [
      "투입한 금액 = 2000\n",
      "선택한 상품의 가격 = 1120\n",
      "거스름돈 = 880원\n",
      "동전의 수: 500원 1개, 100원 3개, 50원 1개, 10원 3개\n"
     ]
    }
   ],
   "source": [
    "cash = int(input(\"투입한 금액 = \"))\n",
    "price = int(input(\"선택한 상품의 가격 = \"))\n",
    "left = cash - price\n",
    "print(f\"거스름돈 = {left}원\")\n",
    "print(f\"동전의 수: 500원 {left//500}개, 100원 {left%500//100}개, 50원 {left%500%100//50}개, 10원 {left%500%100%50//10}개\")"
   ]
  }
 ],
 "metadata": {
  "kernelspec": {
   "display_name": "Python 3 (ipykernel)",
   "language": "python",
   "name": "python3"
  },
  "language_info": {
   "codemirror_mode": {
    "name": "ipython",
    "version": 3
   },
   "file_extension": ".py",
   "mimetype": "text/x-python",
   "name": "python",
   "nbconvert_exporter": "python",
   "pygments_lexer": "ipython3",
   "version": "3.9.7"
  }
 },
 "nbformat": 4,
 "nbformat_minor": 5
}
