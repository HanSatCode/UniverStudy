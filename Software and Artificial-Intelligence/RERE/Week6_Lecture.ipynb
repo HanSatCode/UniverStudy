{
 "cells": [
  {
   "cell_type": "code",
   "execution_count": 2,
   "id": "6bc7b06c",
   "metadata": {},
   "outputs": [
    {
     "name": "stdout",
     "output_type": "stream",
     "text": [
      "{11, 13, 14, 7}\n",
      "{1, 2, 4, 5, 6, 7, 8, 10, 11, 13, 14, 16, 17, 18, 19, 20}\n",
      "{1, 5, 6, 8, 16, 19}\n"
     ]
    }
   ],
   "source": [
    "import random\n",
    "\n",
    "S = set()\n",
    "T = set()\n",
    "\n",
    "while len(S) < 10 :\n",
    "    S.add(random.randint(1, 20))\n",
    "while len(T) < 10 :\n",
    "    T.add(random.randint(1, 20))\n",
    "    \n",
    "print(S&T)\n",
    "print(S|T)\n",
    "print(S-T)"
   ]
  },
  {
   "cell_type": "code",
   "execution_count": 5,
   "id": "a1006e8f",
   "metadata": {},
   "outputs": [
    {
     "name": "stdout",
     "output_type": "stream",
     "text": [
      "영어를 입력(종료는 q): one\n",
      "일\n",
      "영어를 입력(종료는 q): seven\n",
      "칠\n",
      "영어를 입력(종료는 q): hundred\n",
      "없는 단어\n",
      "영어를 입력(종료는 q): q\n"
     ]
    }
   ],
   "source": [
    "dic = {\"one\" : \"일\", \"two\" : \"이\", \"three\" : \"삼\", \"four\" : \"사\", \"five\" : \"오\", \"six\" : \"육\", \"seven\" : \"칠\", \"eight\" : \"팔\", \"nine\" : \"구\", \"ten\" : \"십\"}\n",
    "while True :\n",
    "    check = input('영어를 입력(종료는 q): ')\n",
    "    if check == 'q' :\n",
    "        break\n",
    "    else :\n",
    "        if check in dic :\n",
    "            print(dic[check])\n",
    "        else :\n",
    "            print('없는 단어')"
   ]
  },
  {
   "cell_type": "code",
   "execution_count": 12,
   "id": "a73c04a3",
   "metadata": {},
   "outputs": [
    {
     "name": "stdout",
     "output_type": "stream",
     "text": [
      "문장을 입력하세요: UUAUUGCUUCUCCUACUG\n",
      "가장 많이 입력된 문자 = U (발생 빈도수 = 9)\n"
     ]
    }
   ],
   "source": [
    "a = input('문장을 입력하세요: ')\n",
    "dic = {}\n",
    "for x in a :\n",
    "    dic[x] = dic.get(x, 0) + 1\n",
    "\n",
    "print(f'가장 많이 입력된 문자 = {max(dic.keys())} (발생 빈도수 = {max(dic.values())})')"
   ]
  },
  {
   "cell_type": "code",
   "execution_count": 15,
   "id": "2159b18b",
   "metadata": {},
   "outputs": [
    {
     "name": "stdout",
     "output_type": "stream",
     "text": [
      "문자열을 입력하세요: 영남대학교\n",
      "남대학교영\n",
      "대학교영남\n",
      "학교영남대\n",
      "교영남대학\n",
      "영남대학교\n"
     ]
    }
   ],
   "source": [
    "n = input('문자열을 입력하세요: ')\n",
    "for x in range(len(n)) :\n",
    "    n = n[1:] + n[0]\n",
    "    print(n)"
   ]
  },
  {
   "cell_type": "code",
   "execution_count": 19,
   "id": "4de4b792",
   "metadata": {},
   "outputs": [
    {
     "name": "stdout",
     "output_type": "stream",
     "text": [
      "휴대폰 번호를 입력하세요: 010-1234-5678\n",
      "정확한 전화번호 양식입니다.\n",
      "휴대폰 번호를 입력하세요: 010-123\n",
      "잘못된 전화번호 양식입니다.\n",
      "휴대폰 번호를 입력하세요: 010-123-45678\n",
      "잘못된 전화번호 양식입니다.\n",
      "휴대폰 번호를 입력하세요: q\n"
     ]
    }
   ],
   "source": [
    "while True :\n",
    "    n = input('휴대폰 번호를 입력하세요: ')\n",
    "    if n == 'q' :\n",
    "        break\n",
    "    elif len(n) == 13 and n[0:4] == '010-' and n[4:8].isdigit and n[8] == '-' and n[9:].isdigit : \n",
    "        print('정확한 전화번호 양식입니다.')\n",
    "    else :\n",
    "        print('잘못된 전화번호 양식입니다.')\n",
    "                    "
   ]
  }
 ],
 "metadata": {
  "kernelspec": {
   "display_name": "Python 3 (ipykernel)",
   "language": "python",
   "name": "python3"
  },
  "language_info": {
   "codemirror_mode": {
    "name": "ipython",
    "version": 3
   },
   "file_extension": ".py",
   "mimetype": "text/x-python",
   "name": "python",
   "nbconvert_exporter": "python",
   "pygments_lexer": "ipython3",
   "version": "3.9.7"
  }
 },
 "nbformat": 4,
 "nbformat_minor": 5
}
