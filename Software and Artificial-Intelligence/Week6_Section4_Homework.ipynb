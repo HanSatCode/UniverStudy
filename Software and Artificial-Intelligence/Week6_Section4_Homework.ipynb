{
 "cells": [
  {
   "cell_type": "code",
   "execution_count": 24,
   "id": "a04fba82",
   "metadata": {},
   "outputs": [
    {
     "name": "stdout",
     "output_type": "stream",
     "text": [
      "휴대폰 번호를 입력하세요(종류는 q): 010-1234\n",
      "잘못된 전화번호 양식입니다.\n",
      "휴대폰 번호를 입력하세요(종류는 q): 010-12222-222\n",
      "잘못된 전화번호 양식입니다.\n",
      "휴대폰 번호를 입력하세요(종류는 q): 010-1234-5678\n",
      "정확한 전화번호 양식입니다.\n",
      "휴대폰 번호를 입력하세요(종류는 q): q\n"
     ]
    }
   ],
   "source": [
    "while True :\n",
    "    phone = input(\"휴대폰 번호를 입력하세요(종류는 q): \")\n",
    "    if phone == 'q' :\n",
    "        break\n",
    "    else :\n",
    "        if len(phone) != 13 :\n",
    "            print(\"잘못된 전화번호 양식입니다.\")\n",
    "        else : \n",
    "            if (phone[0:4] == '010-') and (phone[4:8].isdigit() == True) and (phone[8] == '-') and (phone[9:].isdigit() == True) :\n",
    "                print(\"정확한 전화번호 양식입니다.\")\n",
    "            else :\n",
    "                print(\"잘못된 전화번호 양식입니다.\")"
   ]
  },
  {
   "cell_type": "code",
   "execution_count": 110,
   "id": "373e5f03",
   "metadata": {},
   "outputs": [
    {
     "name": "stdout",
     "output_type": "stream",
     "text": [
      "It Was The Best Of Times It Was The Worst Of Times\n",
      "It Was The Age Of Wisdom It Was The Age Of Foolishness\n",
      "It Was The Epoch Of Belief It Was The Epoch Of Incredulity\n",
      "It Was The Season Of Light It Was The Season Of Darkness\n",
      "It Was The Spring Of Hope It Was The Winter Of Despair\n",
      "\n"
     ]
    }
   ],
   "source": [
    "memo = open('C:/temp/data.txt', 'r')\n",
    "newMemo = memo.readlines()\n",
    "temp = ''\n",
    "\n",
    "for x in range(len(newMemo)) :\n",
    "    newMemo[x] = newMemo[x].split()\n",
    "\n",
    "for x in range(len(newMemo)) :\n",
    "    for y in range(len(newMemo[x])) :\n",
    "        newMemo[x][y] = newMemo[x][y].capitalize()\n",
    "        if y == len(newMemo[x]) - 1 :\n",
    "            temp += newMemo[x][y] + '\\n'\n",
    "        else :\n",
    "            temp += newMemo[x][y] + ' '\n",
    "\n",
    "memo.close()\n",
    "print(temp)"
   ]
  }
 ],
 "metadata": {
  "kernelspec": {
   "display_name": "Python 3 (ipykernel)",
   "language": "python",
   "name": "python3"
  },
  "language_info": {
   "codemirror_mode": {
    "name": "ipython",
    "version": 3
   },
   "file_extension": ".py",
   "mimetype": "text/x-python",
   "name": "python",
   "nbconvert_exporter": "python",
   "pygments_lexer": "ipython3",
   "version": "3.9.7"
  }
 },
 "nbformat": 4,
 "nbformat_minor": 5
}
