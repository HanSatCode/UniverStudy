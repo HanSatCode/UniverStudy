{
 "cells": [
  {
   "cell_type": "code",
   "execution_count": 1,
   "id": "fba91947",
   "metadata": {},
   "outputs": [
    {
     "name": "stdout",
     "output_type": "stream",
     "text": [
      "자정부터 경과 시간을 초 단위로 입력 : 53457\n",
      "출력 : 현재시각 = 14시 50분 57초\n"
     ]
    }
   ],
   "source": [
    "a = int(input(\"자정부터 경과 시간을 초 단위로 입력 : \"))\n",
    "print(f'출력 : 현재시각 = {a//3600}시 {a%3600//60}분 {a%3600%60}초')"
   ]
  }
 ],
 "metadata": {
  "kernelspec": {
   "display_name": "Python 3 (ipykernel)",
   "language": "python",
   "name": "python3"
  },
  "language_info": {
   "codemirror_mode": {
    "name": "ipython",
    "version": 3
   },
   "file_extension": ".py",
   "mimetype": "text/x-python",
   "name": "python",
   "nbconvert_exporter": "python",
   "pygments_lexer": "ipython3",
   "version": "3.9.7"
  }
 },
 "nbformat": 4,
 "nbformat_minor": 5
}
