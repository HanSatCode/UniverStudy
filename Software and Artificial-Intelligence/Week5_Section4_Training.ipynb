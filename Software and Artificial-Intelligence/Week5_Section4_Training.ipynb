{
 "cells": [
  {
   "cell_type": "code",
   "execution_count": 8,
   "id": "7e932f3e",
   "metadata": {},
   "outputs": [
    {
     "name": "stdout",
     "output_type": "stream",
     "text": [
      "문장 입력: 안녕하세요 저는 트위치에서 방송을 하고 있는\n",
      "6\n",
      "트위치에서\n"
     ]
    },
    {
     "data": {
      "text/plain": [
       "['하고', '트위치에서', '저는', '있는', '안녕하세요', '방송을']"
      ]
     },
     "execution_count": 8,
     "metadata": {},
     "output_type": "execute_result"
    }
   ],
   "source": [
    "words = tuple(input('문장 입력: ').split())\n",
    "print(len(words))\n",
    "print(words[2])\n",
    "sorted(words)\n",
    "sorted(words, reverse=True)"
   ]
  },
  {
   "cell_type": "code",
   "execution_count": 14,
   "id": "6b13f957",
   "metadata": {},
   "outputs": [
    {
     "name": "stdout",
     "output_type": "stream",
     "text": [
      "문자열 입력: 안녕하세요 저는 트위치에서 방송을 하고 있는\n",
      "찾을 문자 입력: 는\n",
      "2 번 나옴\n"
     ]
    }
   ],
   "source": [
    "words = tuple(input('문자열 입력: '))\n",
    "ch = input('찾을 문자 입력: ')\n",
    "print(words.count(ch), \"번 나옴\")"
   ]
  }
 ],
 "metadata": {
  "kernelspec": {
   "display_name": "Python 3 (ipykernel)",
   "language": "python",
   "name": "python3"
  },
  "language_info": {
   "codemirror_mode": {
    "name": "ipython",
    "version": 3
   },
   "file_extension": ".py",
   "mimetype": "text/x-python",
   "name": "python",
   "nbconvert_exporter": "python",
   "pygments_lexer": "ipython3",
   "version": "3.9.7"
  }
 },
 "nbformat": 4,
 "nbformat_minor": 5
}
