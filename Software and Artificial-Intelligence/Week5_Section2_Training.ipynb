{
 "cells": [
  {
   "cell_type": "code",
   "execution_count": 5,
   "id": "e8ab049e",
   "metadata": {},
   "outputs": [
    {
     "name": "stdout",
     "output_type": "stream",
     "text": [
      "학생의 성적을 입력하세요: 79\n",
      "학생의 성적을 입력하세요: 89\n",
      "학생의 성적을 입력하세요: 50\n",
      "학생의 성적을 입력하세요: 60\n",
      "학생의 성적을 입력하세요: 76\n",
      "[50, 60, 76, 79, 89]\n"
     ]
    }
   ],
   "source": [
    "grades = []\n",
    "for _ in range(5) :\n",
    "    num = int(input(\"학생의 성적을 입력하세요: \"))\n",
    "    grades.append(num)\n",
    "print(sorted(grades, reverse=True)) # sorted를 붙인다고 내용을 바꾸지 않습니다."
   ]
  },
  {
   "cell_type": "code",
   "execution_count": 21,
   "id": "b419a866",
   "metadata": {},
   "outputs": [
    {
     "name": "stdout",
     "output_type": "stream",
     "text": [
      "[8, 13, 23, 28, 34, 37]\n"
     ]
    }
   ],
   "source": [
    "import random\n",
    "lotto = []\n",
    "while True :\n",
    "    num = random.randint(1, 45) # 1부터 45이다. 45가 포함된다. 주의한다.\n",
    "    if num not in lotto :\n",
    "        lotto.append(num)\n",
    "    if len(lotto) == 6 :\n",
    "        break\n",
    "print(sorted(lotto))"
   ]
  },
  {
   "cell_type": "code",
   "execution_count": 25,
   "id": "50cd35f5",
   "metadata": {},
   "outputs": [
    {
     "name": "stdout",
     "output_type": "stream",
     "text": [
      "[[6, 9, 3], [8, 9, 7], [5, 8, 6]] [[10, 4, 9], [2, 6, 10], [7, 10, 5]]\n",
      "[[16, 13, 12], [10, 15, 17], [12, 18, 11]]\n"
     ]
    }
   ],
   "source": [
    "import random\n",
    "A = [ [random.randint(1,10) for y in range(3)] for x in range(3) ]\n",
    "B = [ [random.randint(1,10) for y in range(3)] for x in range(3) ]\n",
    "print(A, B)\n",
    "\n",
    "C = [ [A[x][y] + B[x][y] for y in range(3)] for x in range(3) ]\n",
    "print(C)"
   ]
  }
 ],
 "metadata": {
  "kernelspec": {
   "display_name": "Python 3 (ipykernel)",
   "language": "python",
   "name": "python3"
  },
  "language_info": {
   "codemirror_mode": {
    "name": "ipython",
    "version": 3
   },
   "file_extension": ".py",
   "mimetype": "text/x-python",
   "name": "python",
   "nbconvert_exporter": "python",
   "pygments_lexer": "ipython3",
   "version": "3.9.7"
  }
 },
 "nbformat": 4,
 "nbformat_minor": 5
}
