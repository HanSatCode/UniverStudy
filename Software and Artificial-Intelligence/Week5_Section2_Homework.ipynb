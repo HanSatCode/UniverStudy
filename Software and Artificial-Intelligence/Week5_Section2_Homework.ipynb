{
 "cells": [
  {
   "cell_type": "code",
   "execution_count": 8,
   "id": "5ffc8a85",
   "metadata": {},
   "outputs": [
    {
     "name": "stdout",
     "output_type": "stream",
     "text": [
      "+ 치즈\n",
      "+ 물고기\n",
      "+ 땃쥐\n",
      "- 땃쥐\n",
      "- 땃쥐\n",
      "땃쥐(이)란 것은 냉장고에 없어요.\n",
      "x\n",
      "치즈 물고기 "
     ]
    }
   ],
   "source": [
    "frige = []\n",
    "while True :\n",
    "    x = str(input())\n",
    "    if x[0] == 'x' :\n",
    "        break\n",
    "    else :\n",
    "        if x[0] == '+' :\n",
    "            frige.append(str(x[2:]))\n",
    "        elif x[0] == '-' :\n",
    "            if x[2:] not in frige :\n",
    "                print(f'{x[2:]}(이)란 것은 냉장고에 없어요.')\n",
    "            else :\n",
    "                frige.remove(str(x[2:]))\n",
    "        else :\n",
    "            print('그런 기호는 없어요.')\n",
    "\n",
    "for y in range(len(frige)) :\n",
    "    print(frige[y], end=' ')"
   ]
  }
 ],
 "metadata": {
  "kernelspec": {
   "display_name": "Python 3 (ipykernel)",
   "language": "python",
   "name": "python3"
  },
  "language_info": {
   "codemirror_mode": {
    "name": "ipython",
    "version": 3
   },
   "file_extension": ".py",
   "mimetype": "text/x-python",
   "name": "python",
   "nbconvert_exporter": "python",
   "pygments_lexer": "ipython3",
   "version": "3.9.7"
  }
 },
 "nbformat": 4,
 "nbformat_minor": 5
}
