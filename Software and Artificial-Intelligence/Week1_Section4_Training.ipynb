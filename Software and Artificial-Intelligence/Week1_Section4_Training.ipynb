{
 "cells": [
  {
   "cell_type": "code",
   "execution_count": 18,
   "id": "7d0cacdc",
   "metadata": {},
   "outputs": [
    {
     "name": "stdout",
     "output_type": "stream",
     "text": [
      "/******************************\n",
      "*                             *\n",
      "*       이름 : 한석희         *\n",
      "*       나이 : 20             *\n",
      "*       주소 : 대구광역시     *\n",
      "*                             *\n",
      "******************************/\n"
     ]
    }
   ],
   "source": [
    "print(\"/\" + \"*\" * 30)\n",
    "print(\"*\" + \" \" * 29 + \"*\")\n",
    "print(\"*\" + \" \" * 7 + \"이름 : 한석희\" + \" \" * 9 + \"*\")\n",
    "print(\"*\" + \" \" * 7 + \"나이 : 20\" + \" \" * 13 + \"*\")\n",
    "print(\"*\" + \" \" * 7 + \"주소 : 대구광역시\" + \" \" * 5 + \"*\")\n",
    "print(\"*\" + \" \" * 29 + \"*\")\n",
    "print(\"*\" * 30 + \"/\")"
   ]
  },
  {
   "cell_type": "code",
   "execution_count": 19,
   "id": "840b8fdd",
   "metadata": {},
   "outputs": [],
   "source": [
    "r = 3\n",
    "pi = 3.14159"
   ]
  },
  {
   "cell_type": "code",
   "execution_count": 20,
   "id": "17536bee",
   "metadata": {},
   "outputs": [],
   "source": [
    "area = pi * r ** 2\n",
    "volume = 4 / 3 * pi * r ** 3"
   ]
  },
  {
   "cell_type": "code",
   "execution_count": 23,
   "id": "ce626e16",
   "metadata": {},
   "outputs": [
    {
     "name": "stdout",
     "output_type": "stream",
     "text": [
      "반지름이 3인 원의 면적 = 28.27\n"
     ]
    }
   ],
   "source": [
    "print(f\"반지름이 3인 원의 면적 = {area:.2f}\")"
   ]
  },
  {
   "cell_type": "code",
   "execution_count": 24,
   "id": "6fbb6778",
   "metadata": {},
   "outputs": [
    {
     "name": "stdout",
     "output_type": "stream",
     "text": [
      "반지름이 3인 구의 부피 = 113.10\n"
     ]
    }
   ],
   "source": [
    "print(f\"반지름이 3인 구의 부피 = {volume:.2f}\")"
   ]
  }
 ],
 "metadata": {
  "kernelspec": {
   "display_name": "Python 3 (ipykernel)",
   "language": "python",
   "name": "python3"
  },
  "language_info": {
   "codemirror_mode": {
    "name": "ipython",
    "version": 3
   },
   "file_extension": ".py",
   "mimetype": "text/x-python",
   "name": "python",
   "nbconvert_exporter": "python",
   "pygments_lexer": "ipython3",
   "version": "3.9.7"
  }
 },
 "nbformat": 4,
 "nbformat_minor": 5
}
