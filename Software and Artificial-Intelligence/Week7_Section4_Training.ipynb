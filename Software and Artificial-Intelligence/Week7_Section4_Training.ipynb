{
 "cells": [
  {
   "cell_type": "code",
   "execution_count": 1,
   "id": "c6dd6f4f",
   "metadata": {},
   "outputs": [
    {
     "name": "stdout",
     "output_type": "stream",
     "text": [
      "원의 반지름을 입력하시오: 10\n",
      "원의 면적: 314.159265358979\n",
      "원의 둘레: 62.8318530717958\n"
     ]
    }
   ],
   "source": [
    "PI = 3.14159265358979\n",
    "\n",
    "def circleArea(radius):\n",
    "    return PI*radius*radius\n",
    "def circleCircumference(radius):\n",
    "    return 2*PI*radius\n",
    "\n",
    "radius=float(input(\"원의 반지름을 입력하시오: \"))\n",
    "print('원의 면적:', circleArea(radius))\n",
    "print('원의 둘레:', circleCircumference(radius))"
   ]
  }
 ],
 "metadata": {
  "kernelspec": {
   "display_name": "Python 3 (ipykernel)",
   "language": "python",
   "name": "python3"
  },
  "language_info": {
   "codemirror_mode": {
    "name": "ipython",
    "version": 3
   },
   "file_extension": ".py",
   "mimetype": "text/x-python",
   "name": "python",
   "nbconvert_exporter": "python",
   "pygments_lexer": "ipython3",
   "version": "3.9.7"
  }
 },
 "nbformat": 4,
 "nbformat_minor": 5
}
