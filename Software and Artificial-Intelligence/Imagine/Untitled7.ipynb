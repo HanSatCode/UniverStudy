{
 "cells": [
  {
   "cell_type": "code",
   "execution_count": 5,
   "id": "bbb7ccc5",
   "metadata": {},
   "outputs": [
    {
     "name": "stdout",
     "output_type": "stream",
     "text": [
      "['안녕하세요', '안녕합니다', '내일하세요', '내일합니다', '사랑하세요', '사랑합니다']\n",
      "[['안녕하세요', '안녕합니다'], ['내일하세요', '내일합니다'], ['사랑하세요', '사랑합니다']]\n"
     ]
    }
   ],
   "source": [
    "It1 = ['안녕', '내일', '사랑']\n",
    "It2 = ['하세요', '합니다']\n",
    "result = [ x + y for x in It1 for y in It2 ]\n",
    "result2 = [ [ y + x for x in It2 ] for y in It1 ]\n",
    "print(result)\n",
    "print(result2)"
   ]
  },
  {
   "cell_type": "code",
   "execution_count": null,
   "id": "4f11c33d",
   "metadata": {},
   "outputs": [],
   "source": []
  },
  {
   "cell_type": "code",
   "execution_count": null,
   "id": "766ffa5d",
   "metadata": {},
   "outputs": [],
   "source": []
  },
  {
   "cell_type": "code",
   "execution_count": null,
   "id": "af2ae38a",
   "metadata": {},
   "outputs": [],
   "source": []
  }
 ],
 "metadata": {
  "kernelspec": {
   "display_name": "Python 3 (ipykernel)",
   "language": "python",
   "name": "python3"
  },
  "language_info": {
   "codemirror_mode": {
    "name": "ipython",
    "version": 3
   },
   "file_extension": ".py",
   "mimetype": "text/x-python",
   "name": "python",
   "nbconvert_exporter": "python",
   "pygments_lexer": "ipython3",
   "version": "3.9.7"
  }
 },
 "nbformat": 4,
 "nbformat_minor": 5
}
