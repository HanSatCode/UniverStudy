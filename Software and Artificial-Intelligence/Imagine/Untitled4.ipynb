{
 "cells": [
  {
   "cell_type": "code",
   "execution_count": 3,
   "id": "0d042b07",
   "metadata": {},
   "outputs": [
    {
     "name": "stdout",
     "output_type": "stream",
     "text": [
      "문자열을 입력하세요: 영남대학교\n",
      "남대학교영\n",
      "대학교영남\n",
      "학교영남대\n",
      "교영남대학\n",
      "영남대학교\n"
     ]
    }
   ],
   "source": [
    "n = input('문자열을 입력하세요: ')\n",
    "for x in range(len(n)) :\n",
    "    n = n[1:] + n[0]\n",
    "    print(n)"
   ]
  },
  {
   "cell_type": "code",
   "execution_count": 5,
   "id": "c96ee34f",
   "metadata": {},
   "outputs": [
    {
     "name": "stdout",
     "output_type": "stream",
     "text": [
      "It Was The Best Of Times It Was The Worst Of Times \n",
      "It Was The Age Of Wisdom It Was The Age Of Foolishness \n",
      "It Was The Epoch Of Belief It Was The Epoch Of Incredulity \n",
      "It Was The Season Of Light It Was The Season Of Darkness \n",
      "It Was The Spring Of Hope It Was The Winter Of Despair \n"
     ]
    }
   ],
   "source": [
    "file = open('c:/temp/data.txt', 'r', encoding='UTF8')\n",
    "for line in file :\n",
    "    for word in line.split() :\n",
    "        print(word[0].upper() + word[1:], end=' ')\n",
    "    print()"
   ]
  },
  {
   "cell_type": "code",
   "execution_count": 8,
   "id": "32b36959",
   "metadata": {},
   "outputs": [
    {
     "name": "stdout",
     "output_type": "stream",
     "text": [
      "[('age', 2), ('belief', 1), ('best', 1), ('darkness', 1), ('despair', 1), ('epoch', 2), ('foolishness', 1), ('hope', 1), ('incredulity', 1), ('it', 10), ('light', 1), ('of', 10), ('season', 2), ('spring', 1), ('the', 10), ('times', 2), ('was', 10), ('winter', 1), ('wisdom', 1), ('worst', 1)]\n"
     ]
    }
   ],
   "source": [
    "file = open('c:/temp/data.txt', 'r', encoding='UTF8')\n",
    "dic = {}\n",
    "for line in file :\n",
    "    for word in line.split() :\n",
    "        dic[word] = dic.get(word, 0) + 1\n",
    "\n",
    "print(sorted(dic.items()))"
   ]
  }
 ],
 "metadata": {
  "kernelspec": {
   "display_name": "Python 3 (ipykernel)",
   "language": "python",
   "name": "python3"
  },
  "language_info": {
   "codemirror_mode": {
    "name": "ipython",
    "version": 3
   },
   "file_extension": ".py",
   "mimetype": "text/x-python",
   "name": "python",
   "nbconvert_exporter": "python",
   "pygments_lexer": "ipython3",
   "version": "3.9.7"
  }
 },
 "nbformat": 4,
 "nbformat_minor": 5
}
