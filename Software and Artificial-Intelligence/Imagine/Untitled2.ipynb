{
 "cells": [
  {
   "cell_type": "code",
   "execution_count": 18,
   "id": "43e12d7f",
   "metadata": {},
   "outputs": [
    {
     "name": "stdout",
     "output_type": "stream",
     "text": [
      "[[1, 9, 1], [5, 6, 1], [9, 7, 2]]\n",
      "[[8, 7, 10], [9, 4, 9], [10, 10, 9]]\n",
      "[[9, 14, 19], [16, 10, 17], [11, 10, 11]]\n"
     ]
    }
   ],
   "source": [
    "import random\n",
    "A = [ [ random.randint(1, 10) for y in range(3) ] for z in range(3) ]\n",
    "B = [ [ random.randint(1, 10) for y in range(3) ] for z in range(3) ]\n",
    "print(A, B, sep='\\n')\n",
    "C = [ [ A[x][y] + B[x][y] for x in range(3) ] for y in range(3) ]\n",
    "print(C)"
   ]
  },
  {
   "cell_type": "code",
   "execution_count": null,
   "id": "113487ad",
   "metadata": {},
   "outputs": [],
   "source": []
  }
 ],
 "metadata": {
  "kernelspec": {
   "display_name": "Python 3 (ipykernel)",
   "language": "python",
   "name": "python3"
  },
  "language_info": {
   "codemirror_mode": {
    "name": "ipython",
    "version": 3
   },
   "file_extension": ".py",
   "mimetype": "text/x-python",
   "name": "python",
   "nbconvert_exporter": "python",
   "pygments_lexer": "ipython3",
   "version": "3.9.7"
  }
 },
 "nbformat": 4,
 "nbformat_minor": 5
}
