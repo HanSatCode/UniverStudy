{
 "cells": [
  {
   "cell_type": "code",
   "execution_count": 5,
   "id": "437f202b",
   "metadata": {},
   "outputs": [
    {
     "name": "stdout",
     "output_type": "stream",
     "text": [
      "2부터 10사이의 정수 n : 5\n",
      "행 순서로 출력\n",
      " 1  2  3  4  5 \n",
      " 6  7  8  9 10 \n",
      "11 12 13 14 15 \n",
      "16 17 18 19 20 \n",
      "21 22 23 24 25 \n",
      "열 순서로 출력\n",
      " 1  6 11 16 21 \n",
      " 2  7 12 17 22 \n",
      " 3  8 13 18 23 \n",
      " 4  9 14 19 24 \n",
      " 5 10 15 20 25 \n"
     ]
    }
   ],
   "source": [
    "n = int(input('2부터 10사이의 정수 n : '))\n",
    "\n",
    "print('행 순서로 출력')\n",
    "for x in range(1, n*n+1, n) :\n",
    "    for y in range(x, x+n) :\n",
    "        print(f'{y:2d}', end=' ')\n",
    "    print()\n",
    "print('열 순서로 출력')\n",
    "for x in range(1, n+1) :\n",
    "    for y in range(x, n*n+1, n) :\n",
    "        print(f'{y:2d}', end=' ')\n",
    "    print()"
   ]
  },
  {
   "cell_type": "code",
   "execution_count": 8,
   "id": "abeb66f6",
   "metadata": {},
   "outputs": [
    {
     "name": "stdout",
     "output_type": "stream",
     "text": [
      "**********\n",
      "*********\n",
      "********\n",
      "*******\n",
      "******\n",
      "*****\n",
      "****\n",
      "***\n",
      "**\n",
      "*\n"
     ]
    }
   ],
   "source": [
    "for x in range(10) :\n",
    "    for y in range(10-x, 0, -1) :\n",
    "        print('*', end='')\n",
    "    print()"
   ]
  }
 ],
 "metadata": {
  "kernelspec": {
   "display_name": "Python 3 (ipykernel)",
   "language": "python",
   "name": "python3"
  },
  "language_info": {
   "codemirror_mode": {
    "name": "ipython",
    "version": 3
   },
   "file_extension": ".py",
   "mimetype": "text/x-python",
   "name": "python",
   "nbconvert_exporter": "python",
   "pygments_lexer": "ipython3",
   "version": "3.9.7"
  }
 },
 "nbformat": 4,
 "nbformat_minor": 5
}
