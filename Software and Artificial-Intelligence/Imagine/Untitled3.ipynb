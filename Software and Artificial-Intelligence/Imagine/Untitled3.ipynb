{
 "cells": [
  {
   "cell_type": "code",
   "execution_count": 4,
   "id": "85997bc4",
   "metadata": {},
   "outputs": [
    {
     "name": "stdout",
     "output_type": "stream",
     "text": [
      "문장을 입력하세요:UUAUUGCUUCUCCUACUG\n",
      "Dictionary = {'U': 9, 'A': 2, 'G': 2, 'C': 5}\n",
      "가장 많이 입력된 문자 = U ( 발생 빈도수 = 9 )\n"
     ]
    }
   ],
   "source": [
    "n = input('문장을 입력하세요:')\n",
    "dictionary = {}\n",
    "for word in n :\n",
    "    dictionary[word] = dictionary.get(word, 0) + 1\n",
    "print(f'Dictionary = {dictionary}')\n",
    "print(f'가장 많이 입력된 문자 = {max(dictionary.keys())} ( 발생 빈도수 = {max(dictionary.values())} )')"
   ]
  }
 ],
 "metadata": {
  "kernelspec": {
   "display_name": "Python 3 (ipykernel)",
   "language": "python",
   "name": "python3"
  },
  "language_info": {
   "codemirror_mode": {
    "name": "ipython",
    "version": 3
   },
   "file_extension": ".py",
   "mimetype": "text/x-python",
   "name": "python",
   "nbconvert_exporter": "python",
   "pygments_lexer": "ipython3",
   "version": "3.9.7"
  }
 },
 "nbformat": 4,
 "nbformat_minor": 5
}
