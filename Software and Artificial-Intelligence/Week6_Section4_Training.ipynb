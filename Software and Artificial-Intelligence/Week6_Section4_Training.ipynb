{
 "cells": [
  {
   "cell_type": "code",
   "execution_count": 3,
   "id": "15f94ff0",
   "metadata": {},
   "outputs": [
    {
     "name": "stdout",
     "output_type": "stream",
     "text": [
      "문자열을 입력하세요: Yeungnam University. 컴퓨터공학과 영남대\n",
      "eungnam University. 컴퓨터공학과 영남대Y\n",
      "ungnam University. 컴퓨터공학과 영남대Ye\n",
      "ngnam University. 컴퓨터공학과 영남대Yeu\n",
      "gnam University. 컴퓨터공학과 영남대Yeun\n",
      "nam University. 컴퓨터공학과 영남대Yeung\n",
      "am University. 컴퓨터공학과 영남대Yeungn\n",
      "m University. 컴퓨터공학과 영남대Yeungna\n",
      " University. 컴퓨터공학과 영남대Yeungnam\n",
      "University. 컴퓨터공학과 영남대Yeungnam \n",
      "niversity. 컴퓨터공학과 영남대Yeungnam U\n",
      "iversity. 컴퓨터공학과 영남대Yeungnam Un\n",
      "versity. 컴퓨터공학과 영남대Yeungnam Uni\n",
      "ersity. 컴퓨터공학과 영남대Yeungnam Univ\n",
      "rsity. 컴퓨터공학과 영남대Yeungnam Unive\n",
      "sity. 컴퓨터공학과 영남대Yeungnam Univer\n",
      "ity. 컴퓨터공학과 영남대Yeungnam Univers\n",
      "ty. 컴퓨터공학과 영남대Yeungnam Universi\n",
      "y. 컴퓨터공학과 영남대Yeungnam Universit\n",
      ". 컴퓨터공학과 영남대Yeungnam University\n",
      " 컴퓨터공학과 영남대Yeungnam University.\n",
      "컴퓨터공학과 영남대Yeungnam University. \n",
      "퓨터공학과 영남대Yeungnam University. 컴\n",
      "터공학과 영남대Yeungnam University. 컴퓨\n",
      "공학과 영남대Yeungnam University. 컴퓨터\n",
      "학과 영남대Yeungnam University. 컴퓨터공\n",
      "과 영남대Yeungnam University. 컴퓨터공학\n",
      " 영남대Yeungnam University. 컴퓨터공학과\n",
      "영남대Yeungnam University. 컴퓨터공학과 \n",
      "남대Yeungnam University. 컴퓨터공학과 영\n",
      "대Yeungnam University. 컴퓨터공학과 영남\n",
      "Yeungnam University. 컴퓨터공학과 영남대\n"
     ]
    }
   ],
   "source": [
    "string = input(\"문자열을 입력하세요: \")\n",
    "for x in range(len(string)) :\n",
    "    firstCh = string[0]\n",
    "    remainString = string[1:]\n",
    "    string = remainString + firstCh\n",
    "    print(string)"
   ]
  },
  {
   "cell_type": "code",
   "execution_count": 8,
   "id": "8d7dc08d",
   "metadata": {},
   "outputs": [
    {
     "name": "stdout",
     "output_type": "stream",
     "text": [
      "문자열을 입력하세요(종료는 q): sts\n",
      "회문입니다.\n",
      "문자열을 입력하세요(종료는 q): string\n",
      "회문이 아닙니다.\n",
      "문자열을 입력하세요(종료는 q): strrts\n",
      "회문입니다.\n",
      "문자열을 입력하세요(종료는 q): winiw\n",
      "회문입니다.\n",
      "문자열을 입력하세요(종료는 q): no\n",
      "회문이 아닙니다.\n",
      "문자열을 입력하세요(종료는 q): CodoC\n",
      "회문입니다.\n",
      "문자열을 입력하세요(종료는 q): CooCc\n",
      "회문이 아닙니다.\n",
      "문자열을 입력하세요(종료는 q): Coooc\n",
      "회문이 아닙니다.\n",
      "문자열을 입력하세요(종료는 q): 기러기\n",
      "회문입니다.\n",
      "문자열을 입력하세요(종료는 q): 홍길동\n",
      "회문이 아닙니다.\n",
      "문자열을 입력하세요(종료는 q): ada\n",
      "회문입니다.\n",
      "문자열을 입력하세요(종료는 q): aabbcc\n",
      "회문이 아닙니다.\n",
      "문자열을 입력하세요(종료는 q): aabbaa\n",
      "회문입니다.\n",
      "문자열을 입력하세요(종료는 q): q\n"
     ]
    }
   ],
   "source": [
    "while True :\n",
    "    word = input(\"문자열을 입력하세요(종료는 q): \")\n",
    "    if word == 'q' :\n",
    "        break\n",
    "    left = 0\n",
    "    right = len(word) - 1\n",
    "    while left <= right :\n",
    "        if word[left] != word[right] :\n",
    "            print('회문이 아닙니다.')\n",
    "            break\n",
    "        left += 1\n",
    "        right -= 1\n",
    "    else :\n",
    "        print('회문입니다.')"
   ]
  },
  {
   "cell_type": "code",
   "execution_count": 14,
   "id": "88325667",
   "metadata": {},
   "outputs": [
    {
     "name": "stdout",
     "output_type": "stream",
     "text": [
      "문자열을 입력하세요(종료는 q): 안녕\n",
      "회문이 아닙니다.\n",
      "문자열을 입력하세요(종료는 q): strts\n",
      "회문입니다.\n",
      "문자열을 입력하세요(종료는 q): q\n"
     ]
    }
   ],
   "source": [
    "while True :\n",
    "    word = input(\"문자열을 입력하세요(종료는 q): \")\n",
    "    if word == 'q' :\n",
    "        break\n",
    "    if word == word[::-1] :\n",
    "        print('회문입니다.')\n",
    "    else :\n",
    "        print('회문이 아닙니다.')"
   ]
  },
  {
   "cell_type": "code",
   "execution_count": 17,
   "id": "727f5330",
   "metadata": {},
   "outputs": [
    {
     "name": "stdout",
     "output_type": "stream",
     "text": [
      "[('age', 2), ('belief', 1), ('best', 1), ('darkness', 1), ('despair', 1), ('epoch', 2), ('foolishness', 1), ('hope', 1), ('incredulity', 1), ('it', 10), ('light', 1), ('of', 10), ('season', 2), ('spring', 1), ('the', 10), ('times', 2), ('was', 10), ('winter', 1), ('wisdom', 1), ('worst', 1)]\n"
     ]
    }
   ],
   "source": [
    "file = open('C:/temp/data.txt', 'r')\n",
    "table = {}\n",
    "for line in file :\n",
    "    for word in line.split():\n",
    "        s = word.lower()\n",
    "        table[s] = table.get(s, 0) + 1\n",
    "file.close()\n",
    "print(sorted(table.items()))"
   ]
  }
 ],
 "metadata": {
  "kernelspec": {
   "display_name": "Python 3 (ipykernel)",
   "language": "python",
   "name": "python3"
  },
  "language_info": {
   "codemirror_mode": {
    "name": "ipython",
    "version": 3
   },
   "file_extension": ".py",
   "mimetype": "text/x-python",
   "name": "python",
   "nbconvert_exporter": "python",
   "pygments_lexer": "ipython3",
   "version": "3.9.7"
  }
 },
 "nbformat": 4,
 "nbformat_minor": 5
}
