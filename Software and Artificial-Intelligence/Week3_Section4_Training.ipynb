{
 "cells": [
  {
   "cell_type": "code",
   "execution_count": 2,
   "id": "f0298524",
   "metadata": {},
   "outputs": [
    {
     "name": "stdout",
     "output_type": "stream",
     "text": [
      "몇 단을 출력할까요? 6\n",
      "6 * 1 = 6\n",
      "6 * 2 = 12\n",
      "6 * 3 = 18\n",
      "6 * 4 = 24\n",
      "6 * 5 = 30\n",
      "6 * 6 = 36\n",
      "6 * 7 = 42\n",
      "6 * 8 = 48\n",
      "6 * 9 = 54\n"
     ]
    }
   ],
   "source": [
    "num = int(input(\"몇 단을 출력할까요? \"))\n",
    "x = 1\n",
    "while x <= 9 : \n",
    "    print(f'{num} * {x} = {num * x}')\n",
    "    x += 1"
   ]
  },
  {
   "cell_type": "code",
   "execution_count": 5,
   "id": "8788244e",
   "metadata": {},
   "outputs": [
    {
     "name": "stdout",
     "output_type": "stream",
     "text": [
      "학생 1의 성적을 입력하세요: 70\n",
      "학생 2의 성적을 입력하세요: 75\n",
      "학생 3의 성적을 입력하세요: 80\n",
      "학생 4의 성적을 입력하세요: 85\n",
      "학생 5의 성적을 입력하세요: 90\n",
      "학생 6의 성적을 입력하세요: 95\n",
      "학생 7의 성적을 입력하세요: 100\n",
      "학생 8의 성적을 입력하세요: 95\n",
      "학생 9의 성적을 입력하세요: 80\n",
      "학생 10의 성적을 입력하세요: 75\n",
      "평균 = 84.5\n"
     ]
    }
   ],
   "source": [
    "id = 1\n",
    "total = 0\n",
    "while id <= 10 :\n",
    "    grade = int(input(f\"학생 {id}의 성적을 입력하세요: \"))\n",
    "    total = total + grade\n",
    "    id = id + 1\n",
    "print(f\"평균 = {total/10}\")"
   ]
  },
  {
   "cell_type": "code",
   "execution_count": 12,
   "id": "8a46fc88",
   "metadata": {},
   "outputs": [
    {
     "name": "stdout",
     "output_type": "stream",
     "text": [
      "학생 1의 성적을 입력하세요: 50\n",
      "학생 2의 성적을 입력하세요: 60\n",
      "학생 3의 성적을 입력하세요: 70\n",
      "학생 4의 성적을 입력하세요: -1\n",
      "평균 = 60.0\n"
     ]
    }
   ],
   "source": [
    "id = 1\n",
    "total = 0\n",
    "while True :\n",
    "    grade = int(input(f\"학생 {id}의 성적을 입력하세요: \"))\n",
    "    if grade == -1 :\n",
    "        break\n",
    "    total = total + grade\n",
    "    id = id + 1\n",
    "if id >= 1 :   \n",
    "    print(f\"평균 = {total/(id-1)}\")\n",
    "else :\n",
    "    print(\"입력된 성적이 없습니다.\")"
   ]
  }
 ],
 "metadata": {
  "kernelspec": {
   "display_name": "Python 3 (ipykernel)",
   "language": "python",
   "name": "python3"
  },
  "language_info": {
   "codemirror_mode": {
    "name": "ipython",
    "version": 3
   },
   "file_extension": ".py",
   "mimetype": "text/x-python",
   "name": "python",
   "nbconvert_exporter": "python",
   "pygments_lexer": "ipython3",
   "version": "3.9.7"
  }
 },
 "nbformat": 4,
 "nbformat_minor": 5
}
