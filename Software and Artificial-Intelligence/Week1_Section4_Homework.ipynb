{
 "cells": [
  {
   "cell_type": "code",
   "execution_count": 1,
   "id": "23ebe88c",
   "metadata": {},
   "outputs": [
    {
     "name": "stdout",
     "output_type": "stream",
     "text": [
      "(x1, y1), (x2, y2)의 중심점의 좌표 = (3.3, 3.95)\n",
      "(x1, y1), (x2, y2)의 거리 = 4.0853396431631\n"
     ]
    }
   ],
   "source": [
    "import math\n",
    "x1, y1 = 5.2, 4.7\n",
    "x2, y2 = 1.4, 3.2\n",
    "centerPointX = (x1 + x2) / 2\n",
    "centerPointY = (y1 + y2) / 2\n",
    "distance = math.sqrt((x2 - x1) ** 2 + (y2 - y1) ** 2)\n",
    "print(f\"(x1, y1), (x2, y2)의 중심점의 좌표 = {centerPointX, centerPointY}\")\n",
    "print(f\"(x1, y1), (x2, y2)의 거리 = {distance}\")"
   ]
  }
 ],
 "metadata": {
  "kernelspec": {
   "display_name": "Python 3 (ipykernel)",
   "language": "python",
   "name": "python3"
  },
  "language_info": {
   "codemirror_mode": {
    "name": "ipython",
    "version": 3
   },
   "file_extension": ".py",
   "mimetype": "text/x-python",
   "name": "python",
   "nbconvert_exporter": "python",
   "pygments_lexer": "ipython3",
   "version": "3.9.7"
  }
 },
 "nbformat": 4,
 "nbformat_minor": 5
}
