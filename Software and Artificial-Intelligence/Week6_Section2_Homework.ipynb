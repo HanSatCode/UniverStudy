{
 "cells": [
  {
   "cell_type": "code",
   "execution_count": 3,
   "id": "fd97afa0",
   "metadata": {},
   "outputs": [
    {
     "name": "stdout",
     "output_type": "stream",
     "text": [
      "영어를 입력(종료는 q): one\n",
      "일\n",
      "영어를 입력(종료는 q): seven\n",
      "칠\n",
      "영어를 입력(종료는 q): hundred\n",
      "없는 단어입니다.\n",
      "영어를 입력(종료는 q): q\n"
     ]
    }
   ],
   "source": [
    "dic = {\"one\" : \"일\", \"two\" : \"이\", \"three\" : \"삼\", \"four\" : \"사\", \"five\" : \"오\", \"six\" : \"육\", \"seven\" : \"칠\", \"eight\" : \"팔\", \"nine\" : \"구\", \"ten\" : \"십\"}\n",
    "while True :\n",
    "    i = str(input(\"영어를 입력(종료는 q): \"))\n",
    "    if i == 'q' :\n",
    "        break\n",
    "    else :\n",
    "        if i in dic :\n",
    "            print(dic[i])\n",
    "        else :\n",
    "            print(\"없는 단어입니다.\")"
   ]
  }
 ],
 "metadata": {
  "kernelspec": {
   "display_name": "Python 3 (ipykernel)",
   "language": "python",
   "name": "python3"
  },
  "language_info": {
   "codemirror_mode": {
    "name": "ipython",
    "version": 3
   },
   "file_extension": ".py",
   "mimetype": "text/x-python",
   "name": "python",
   "nbconvert_exporter": "python",
   "pygments_lexer": "ipython3",
   "version": "3.9.7"
  }
 },
 "nbformat": 4,
 "nbformat_minor": 5
}
