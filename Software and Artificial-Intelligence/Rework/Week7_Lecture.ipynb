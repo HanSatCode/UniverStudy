{
 "cells": [
  {
   "cell_type": "code",
   "execution_count": 4,
   "id": "5568aaf2",
   "metadata": {},
   "outputs": [
    {
     "name": "stdout",
     "output_type": "stream",
     "text": [
      "생일 축하합니다 !\n",
      "생일 축하합니다 !\n",
      "사랑하는 친구의 생일축하 합니다 !\n"
     ]
    }
   ],
   "source": [
    "def happyBirthday() :\n",
    "    print('생일 축하합니다 !')\n",
    "    print('생일 축하합니다 !')\n",
    "    print('사랑하는 친구의 생일축하 합니다 !')\n",
    "    \n",
    "happyBirthday()"
   ]
  },
  {
   "cell_type": "code",
   "execution_count": 7,
   "id": "290a2b6e",
   "metadata": {},
   "outputs": [
    {
     "name": "stdout",
     "output_type": "stream",
     "text": [
      "화씨온도를 입력하시오: 32.0\n",
      "0.0\n"
     ]
    }
   ],
   "source": [
    "def FtoC(temp_f) :\n",
    "    temp_c = (5.0 * (temp_f - 32.0)) / 9.0\n",
    "    return temp_c\n",
    "temp_f = float(input('화씨온도를 입력하시오: '))\n",
    "print(FtoC(temp_f))"
   ]
  },
  {
   "cell_type": "code",
   "execution_count": 14,
   "id": "a802cb22",
   "metadata": {},
   "outputs": [
    {
     "name": "stdout",
     "output_type": "stream",
     "text": [
      "정수를 입력하시오: 101\n",
      "True\n"
     ]
    }
   ],
   "source": [
    "def is_prime(num):\n",
    "    if num == 2 :\n",
    "        return True\n",
    "    else :\n",
    "        for x in range(3, num) :\n",
    "            if num%x == 0 :\n",
    "                return False\n",
    "                break\n",
    "            else :\n",
    "                continue\n",
    "        else :\n",
    "            return True\n",
    "a = int(input(\"정수를 입력하시오: \"))\n",
    "print(is_prime(a))"
   ]
  },
  {
   "cell_type": "code",
   "execution_count": 16,
   "id": "476eba37",
   "metadata": {},
   "outputs": [
    {
     "name": "stdout",
     "output_type": "stream",
     "text": [
      "구의 반지름을 입력하시오: 10.0\n",
      "4188.790204786391\n"
     ]
    }
   ],
   "source": [
    "import math\n",
    "def sphereVolume(r) :\n",
    "    sphere = 4/3 * math.pi * r**3\n",
    "    return sphere\n",
    "num = float(input(\"구의 반지름을 입력하시오: \"))\n",
    "print(sphereVolume(num))"
   ]
  },
  {
   "cell_type": "code",
   "execution_count": 23,
   "id": "0be1fdbc",
   "metadata": {},
   "outputs": [
    {
     "name": "stdout",
     "output_type": "stream",
     "text": [
      "원의 반지름을 입력하시오: 10\n",
      "원의 면적 314.159265\n",
      "원의 둘레 62.8318530717958\n"
     ]
    }
   ],
   "source": [
    "PI = 3.14159265358979\n",
    "def calO(r) :\n",
    "    a = PI*r**2\n",
    "    b = 2*PI*r\n",
    "    print('원의 면적 %f' %a)\n",
    "    print('원의 둘레 {}'.format(b))\n",
    "result = int(input(\"원의 반지름을 입력하시오: \"))\n",
    "calO(result)"
   ]
  },
  {
   "cell_type": "code",
   "execution_count": 26,
   "id": "5b828fec",
   "metadata": {},
   "outputs": [],
   "source": [
    "import webbrowser\n",
    "a_ = webbrowser.open('https://www.python.org')"
   ]
  }
 ],
 "metadata": {
  "kernelspec": {
   "display_name": "Python 3 (ipykernel)",
   "language": "python",
   "name": "python3"
  },
  "language_info": {
   "codemirror_mode": {
    "name": "ipython",
    "version": 3
   },
   "file_extension": ".py",
   "mimetype": "text/x-python",
   "name": "python",
   "nbconvert_exporter": "python",
   "pygments_lexer": "ipython3",
   "version": "3.9.7"
  }
 },
 "nbformat": 4,
 "nbformat_minor": 5
}
