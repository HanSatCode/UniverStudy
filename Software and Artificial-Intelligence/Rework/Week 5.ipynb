{
 "cells": [
  {
   "cell_type": "code",
   "execution_count": 2,
   "id": "0e7f763f",
   "metadata": {},
   "outputs": [
    {
     "name": "stdout",
     "output_type": "stream",
     "text": [
      "153 370 371 407 "
     ]
    }
   ],
   "source": [
    "for x in range(100, 1000) :\n",
    "    if (x//100) ** 3 + (x%100//10) **3 + (x%100%10) ** 3 == x :\n",
    "        print(x, end = ' ')"
   ]
  },
  {
   "cell_type": "code",
   "execution_count": 8,
   "id": "0d832e53",
   "metadata": {},
   "outputs": [
    {
     "name": "stdout",
     "output_type": "stream",
     "text": [
      "2부터 10 사이의 정수를 입력하세요 5\n",
      "행 순서로 출력\n",
      " 1  2  3  4  5 \n",
      " 6  7  8  9 10 \n",
      "11 12 13 14 15 \n",
      "16 17 18 19 20 \n",
      "21 22 23 24 25 \n",
      "열 순서로 출력\n",
      " 1  6 11 16 21 \n",
      " 2  7 12 17 22 \n",
      " 3  8 13 18 23 \n",
      " 4  9 14 19 24 \n",
      " 5 10 15 20 25 \n"
     ]
    }
   ],
   "source": [
    "n = int(input('2부터 10 사이의 정수를 입력하세요 '))\n",
    "\n",
    "print('행 순서로 출력')\n",
    "for x in range(1, n*n+1) :\n",
    "    print(f'{x:2d}', end=' ')\n",
    "    if x % n == 0 :\n",
    "        print('')\n",
    "        \n",
    "print('열 순서로 출력')\n",
    "for x in range (1, n+1) :\n",
    "    for y in range(x, n*n+1, n) :\n",
    "        print(f'{y:2d}', end=' ')\n",
    "    print('')"
   ]
  },
  {
   "cell_type": "code",
   "execution_count": 11,
   "id": "28f75697",
   "metadata": {},
   "outputs": [
    {
     "name": "stdout",
     "output_type": "stream",
     "text": [
      "10\n",
      "2.9289682539682538\n"
     ]
    }
   ],
   "source": [
    "n = int(input(''))\n",
    "result = 0\n",
    "for x in range(1, n+1) :\n",
    "    result += 1/x\n",
    "print(result)"
   ]
  },
  {
   "cell_type": "code",
   "execution_count": 13,
   "id": "ef43b128",
   "metadata": {},
   "outputs": [
    {
     "name": "stdout",
     "output_type": "stream",
     "text": [
      "10\n",
      "**********\n",
      "*********\n",
      "********\n",
      "*******\n",
      "******\n",
      "*****\n",
      "****\n",
      "***\n",
      "**\n",
      "*\n"
     ]
    }
   ],
   "source": [
    "n = int(input())\n",
    "for x in range(n, 0, -1) :\n",
    "    print('*'*x)"
   ]
  }
 ],
 "metadata": {
  "kernelspec": {
   "display_name": "Python 3 (ipykernel)",
   "language": "python",
   "name": "python3"
  },
  "language_info": {
   "codemirror_mode": {
    "name": "ipython",
    "version": 3
   },
   "file_extension": ".py",
   "mimetype": "text/x-python",
   "name": "python",
   "nbconvert_exporter": "python",
   "pygments_lexer": "ipython3",
   "version": "3.9.7"
  }
 },
 "nbformat": 4,
 "nbformat_minor": 5
}
