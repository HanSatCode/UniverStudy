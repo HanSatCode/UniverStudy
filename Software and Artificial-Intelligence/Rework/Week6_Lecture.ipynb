{
 "cells": [
  {
   "cell_type": "code",
   "execution_count": 2,
   "id": "6bc7b06c",
   "metadata": {},
   "outputs": [
    {
     "name": "stdout",
     "output_type": "stream",
     "text": [
      "{11, 13, 14, 7}\n",
      "{1, 2, 4, 5, 6, 7, 8, 10, 11, 13, 14, 16, 17, 18, 19, 20}\n",
      "{1, 5, 6, 8, 16, 19}\n"
     ]
    }
   ],
   "source": [
    "import random\n",
    "\n",
    "S = set()\n",
    "T = set()\n",
    "\n",
    "while len(S) < 10 :\n",
    "    S.add(random.randint(1, 20))\n",
    "while len(T) < 10 :\n",
    "    T.add(random.randint(1, 20))\n",
    "    \n",
    "print(S&T)\n",
    "print(S|T)\n",
    "print(S-T)"
   ]
  },
  {
   "cell_type": "code",
   "execution_count": 5,
   "id": "a1006e8f",
   "metadata": {},
   "outputs": [
    {
     "name": "stdout",
     "output_type": "stream",
     "text": [
      "영어를 입력(종료는 q): one\n",
      "일\n",
      "영어를 입력(종료는 q): seven\n",
      "칠\n",
      "영어를 입력(종료는 q): hundred\n",
      "없는 단어\n",
      "영어를 입력(종료는 q): q\n"
     ]
    }
   ],
   "source": [
    "dic = {\"one\" : \"일\", \"two\" : \"이\", \"three\" : \"삼\", \"four\" : \"사\", \"five\" : \"오\", \"six\" : \"육\", \"seven\" : \"칠\", \"eight\" : \"팔\", \"nine\" : \"구\", \"ten\" : \"십\"}\n",
    "while True :\n",
    "    check = input('영어를 입력(종료는 q): ')\n",
    "    if check == 'q' :\n",
    "        break\n",
    "    else :\n",
    "        if check in dic :\n",
    "            print(dic[check])\n",
    "        else :\n",
    "            print('없는 단어')"
   ]
  },
  {
   "cell_type": "code",
   "execution_count": 2,
   "id": "50af511b",
   "metadata": {},
   "outputs": [
    {
     "name": "stdout",
     "output_type": "stream",
     "text": [
      "문장을 입력하세요: UUAUUGCUUCUCCUACUG\n",
      "가장 많이 입력된 문자 = U (발생 빈도수 = 9)\n"
     ]
    }
   ],
   "source": [
    "n = input('문장을 입력하세요: ')\n",
    "dic = {}\n",
    "for x in n :\n",
    "    dic[x] = dic.get(x, 0) + 1\n",
    "print(f'가장 많이 입력된 문자 = {max(dic.keys())} (발생 빈도수 = {max(dic.values())})')"
   ]
  },
  {
   "cell_type": "code",
   "execution_count": 15,
   "id": "2159b18b",
   "metadata": {},
   "outputs": [
    {
     "name": "stdout",
     "output_type": "stream",
     "text": [
      "문자열을 입력하세요: 영남대학교\n",
      "남대학교영\n",
      "대학교영남\n",
      "학교영남대\n",
      "교영남대학\n",
      "영남대학교\n"
     ]
    }
   ],
   "source": [
    "n = input('문자열을 입력하세요: ')\n",
    "for x in range(len(n)) :\n",
    "    n = n[1:] + n[0]\n",
    "    print(n)"
   ]
  },
  {
   "cell_type": "code",
   "execution_count": 2,
   "id": "4de4b792",
   "metadata": {},
   "outputs": [
    {
     "name": "stdout",
     "output_type": "stream",
     "text": [
      "휴대폰 번호를 입력하세요: 010-1234-abcd\n",
      "잘못된 전화번호 양식입니다.\n",
      "휴대폰 번호를 입력하세요: 010-1234\n",
      "잘못된 전화번호 양식입니다.\n",
      "휴대폰 번호를 입력하세요: 0102345678\n",
      "잘못된 전화번호 양식입니다.\n",
      "휴대폰 번호를 입력하세요: 010-1234-567\n",
      "잘못된 전화번호 양식입니다.\n",
      "휴대폰 번호를 입력하세요: 010-1234-5678\n",
      "정확한 전화번호 양식입니다.\n",
      "휴대폰 번호를 입력하세요: q\n"
     ]
    }
   ],
   "source": [
    "while True :\n",
    "    n = input('휴대폰 번호를 입력하세요: ')\n",
    "    if n == 'q' :\n",
    "        break\n",
    "    elif len(n) == 13 and n[0:4] == '010-' and n[4:8].isdigit() and n[8] == '-' and n[9:].isdigit() : \n",
    "        print('정확한 전화번호 양식입니다.')\n",
    "    else :\n",
    "        print('잘못된 전화번호 양식입니다.')"
   ]
  },
  {
   "cell_type": "code",
   "execution_count": 5,
   "id": "002da2b0",
   "metadata": {},
   "outputs": [
    {
     "name": "stdout",
     "output_type": "stream",
     "text": [
      "문자열을 입력하세요(종료는  q): radar\n",
      "회문입니다.\n",
      "문자열을 입력하세요(종료는  q): level\n",
      "회문입니다.\n",
      "문자열을 입력하세요(종료는  q): 사로로사\n",
      "회문입니다.\n",
      "문자열을 입력하세요(종료는  q): see\n",
      "회문이 아닙니다.\n",
      "문자열을 입력하세요(종료는  q): q\n"
     ]
    }
   ],
   "source": [
    "while True :\n",
    "    n = input(\"문자열을 입력하세요(종료는  q): \")\n",
    "    if n == 'q' :\n",
    "        break\n",
    "    else :\n",
    "        if n[::-1] == n[::] :\n",
    "            print('회문입니다.')\n",
    "        else :\n",
    "            print('회문이 아닙니다.')"
   ]
  },
  {
   "cell_type": "code",
   "execution_count": 1,
   "id": "416d8964",
   "metadata": {},
   "outputs": [
    {
     "name": "stdout",
     "output_type": "stream",
     "text": [
      "It Was The Best Of Times It Was The Worst Of Times \n",
      "It Was The Age Of Wisdom It Was The Age Of Foolishness \n",
      "It Was The Epoch Of Belief It Was The Epoch Of Incredulity \n",
      "It Was The Season Of Light It Was The Season Of Darkness \n",
      "It Was The Spring Of Hope It Was The Winter Of Despair \n"
     ]
    }
   ],
   "source": [
    "file = open('Week6_Lecture_data.txt', 'r', encoding='UTF8')\n",
    "line = []\n",
    "for x in file :\n",
    "    line.append(x)\n",
    "for x in range(len(line)) :\n",
    "    line[x] = line[x].split()\n",
    "for x in range(len(line)) :\n",
    "    for y in range(len(line[x])) :\n",
    "        line[x][y] = line[x][y][0].upper() + line[x][y][1:]\n",
    "for x in range(len(line)) :\n",
    "    for y in range(len(line[x])) :\n",
    "        print(line[x][y], end=' ')\n",
    "    print()\n",
    "file.close()"
   ]
  },
  {
   "cell_type": "code",
   "execution_count": 2,
   "id": "e849951a",
   "metadata": {},
   "outputs": [
    {
     "name": "stdout",
     "output_type": "stream",
     "text": [
      "It Was The Best Of Times It Was The Worst Of Times \n",
      "It Was The Age Of Wisdom It Was The Age Of Foolishness \n",
      "It Was The Epoch Of Belief It Was The Epoch Of Incredulity \n",
      "It Was The Season Of Light It Was The Season Of Darkness \n",
      "It Was The Spring Of Hope It Was The Winter Of Despair \n"
     ]
    }
   ],
   "source": [
    "file = open('Week6_Lecture_data.txt', 'r', encoding='UTF8')\n",
    "for line in file: # for문으로 읽으면 라인 통째로 읽음.\n",
    "    for word in line.split() :\n",
    "        print(word.title(), end=' ')\n",
    "    print()"
   ]
  },
  {
   "cell_type": "code",
   "execution_count": 40,
   "id": "103210a3",
   "metadata": {},
   "outputs": [
    {
     "name": "stdout",
     "output_type": "stream",
     "text": [
      "[('age', 2), ('belief', 1), ('best', 1), ('darkness', 1), ('despair', 1), ('epoch', 2), ('foolishness', 1), ('hope', 1), ('incredulity', 1), ('it', 10), ('light', 1), ('of', 10), ('season', 2), ('spring', 1), ('the', 10), ('times', 2), ('was', 10), ('winter', 1), ('wisdom', 1), ('worst', 1)]\n"
     ]
    }
   ],
   "source": [
    "file = open('Week6_Lecture_data.txt', 'r', encoding='UTF8')\n",
    "dic = {}\n",
    "line = []\n",
    "for x in file :\n",
    "    line.append(x)\n",
    "for x in range(len(line)) :\n",
    "    line[x] = line[x].split()\n",
    "\n",
    "for x in range(len(line)) :\n",
    "    for y in range(len(line[x])) :\n",
    "        dic[line[x][y]] = dic.get(line[x][y], 0) + 1\n",
    "print(sorted(dic.items()))"
   ]
  },
  {
   "cell_type": "code",
   "execution_count": 3,
   "id": "e9714b42",
   "metadata": {},
   "outputs": [
    {
     "name": "stdout",
     "output_type": "stream",
     "text": [
      "[('age', 2), ('belief', 1), ('best', 1), ('darkness', 1), ('despair', 1), ('epoch', 2), ('foolishness', 1), ('hope', 1), ('incredulity', 1), ('it', 10), ('light', 1), ('of', 10), ('season', 2), ('spring', 1), ('the', 10), ('times', 2), ('was', 10), ('winter', 1), ('wisdom', 1), ('worst', 1)]\n"
     ]
    }
   ],
   "source": [
    "file = open('Week6_Lecture_data.txt', 'r', encoding='UTF8')\n",
    "dic = {}\n",
    "for line in file :\n",
    "    for word in line.split() :\n",
    "        dic[word] = dic.get(word, 0) + 1\n",
    "print(sorted(dic.items()))"
   ]
  },
  {
   "cell_type": "code",
   "execution_count": null,
   "id": "c98884b2",
   "metadata": {},
   "outputs": [],
   "source": []
  }
 ],
 "metadata": {
  "kernelspec": {
   "display_name": "Python 3 (ipykernel)",
   "language": "python",
   "name": "python3"
  },
  "language_info": {
   "codemirror_mode": {
    "name": "ipython",
    "version": 3
   },
   "file_extension": ".py",
   "mimetype": "text/x-python",
   "name": "python",
   "nbconvert_exporter": "python",
   "pygments_lexer": "ipython3",
   "version": "3.9.7"
  }
 },
 "nbformat": 4,
 "nbformat_minor": 5
}
