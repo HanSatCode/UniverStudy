{
 "cells": [
  {
   "cell_type": "code",
   "execution_count": 1,
   "id": "7341c64f",
   "metadata": {},
   "outputs": [
    {
     "name": "stdout",
     "output_type": "stream",
     "text": [
      "153 370 371 407 "
     ]
    }
   ],
   "source": [
    "for x in range(100, 1000) :\n",
    "    if (x//100)**3 + (x%100//10)**3 + (x%100%10)**3 == x :\n",
    "        print(x, end=' ')"
   ]
  },
  {
   "cell_type": "code",
   "execution_count": 18,
   "id": "9e5c4c04",
   "metadata": {},
   "outputs": [
    {
     "name": "stdout",
     "output_type": "stream",
     "text": [
      "2부터 10사이의 정수를 입력하세요: 7\n",
      "행 순서로 출력\n",
      " 1  2  3  4  5  6  7 \n",
      " 8  9 10 11 12 13 14 \n",
      "15 16 17 18 19 20 21 \n",
      "22 23 24 25 26 27 28 \n",
      "29 30 31 32 33 34 35 \n",
      "36 37 38 39 40 41 42 \n",
      "43 44 45 46 47 48 49 \n",
      "\n",
      "열 순서로 출력\n",
      " 1  8 15 22 29 36 43 \n",
      " 2  9 16 23 30 37 44 \n",
      " 3 10 17 24 31 38 45 \n",
      " 4 11 18 25 32 39 46 \n",
      " 5 12 19 26 33 40 47 \n",
      " 6 13 20 27 34 41 48 \n",
      " 7 14 21 28 35 42 49 \n"
     ]
    }
   ],
   "source": [
    "n = int(input(\"2부터 10사이의 정수를 입력하세요: \"))\n",
    "\n",
    "print('행 순서로 출력')\n",
    "for x in range(1, n*n+1, n) :\n",
    "    for y in range(x, x+n) :\n",
    "        print('%2d' %(y), end=' ')\n",
    "    print()\n",
    "    \n",
    "print('\\n열 순서로 출력')\n",
    "for x in range(1, n+1) :\n",
    "    for y in range(x, n*n+1, n) :\n",
    "        print('%2d' %(y), end=' ')\n",
    "    print()"
   ]
  }
 ],
 "metadata": {
  "kernelspec": {
   "display_name": "Python 3 (ipykernel)",
   "language": "python",
   "name": "python3"
  },
  "language_info": {
   "codemirror_mode": {
    "name": "ipython",
    "version": 3
   },
   "file_extension": ".py",
   "mimetype": "text/x-python",
   "name": "python",
   "nbconvert_exporter": "python",
   "pygments_lexer": "ipython3",
   "version": "3.9.7"
  }
 },
 "nbformat": 4,
 "nbformat_minor": 5
}
