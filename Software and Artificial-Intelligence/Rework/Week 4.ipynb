{
 "cells": [
  {
   "cell_type": "code",
   "execution_count": 5,
   "id": "11b4e201",
   "metadata": {},
   "outputs": [
    {
     "name": "stdout",
     "output_type": "stream",
     "text": [
      "숫자를 입력하세요.1.2 4.3 2.5\n",
      "4.3\n"
     ]
    }
   ],
   "source": [
    "# 실습 1\n",
    "a, b, c = input('숫자를 입력하세요.').split()\n",
    "a, b, c = float(a), float(b), float(c)\n",
    "if a < b :\n",
    "    if b < c :\n",
    "        print(c)\n",
    "    else :\n",
    "        print(b)\n",
    "else :\n",
    "    if a < c :\n",
    "        print(c)\n",
    "    else :\n",
    "        print(a)"
   ]
  },
  {
   "cell_type": "code",
   "execution_count": 12,
   "id": "2cb0f02a",
   "metadata": {},
   "outputs": [
    {
     "name": "stdout",
     "output_type": "stream",
     "text": [
      "숫자를 입력해 주세요 : 4\n",
      "1부터 n까지 짝수의 합 : 6\n",
      "1부터 n까지 역수의 합 : 2.083333333333333\n"
     ]
    }
   ],
   "source": [
    "# 실습 2\n",
    "n = int(input('숫자를 입력해 주세요 : '))\n",
    "resultA = 0\n",
    "resultB = 0\n",
    "b = 1\n",
    "a = 2\n",
    "while a <= n :\n",
    "    if a%2 == 0 :\n",
    "        resultA += a\n",
    "    a += 1\n",
    "while b <= n :\n",
    "    resultB += 1/b\n",
    "    b +=1\n",
    "print(f'1부터 n까지 짝수의 합 : {resultA}')\n",
    "print(f'1부터 n까지 역수의 합 : {resultB}')"
   ]
  },
  {
   "cell_type": "code",
   "execution_count": 14,
   "id": "87617e62",
   "metadata": {},
   "outputs": [
    {
     "name": "stdout",
     "output_type": "stream",
     "text": [
      "연도를 입력해 주세요: 2100\n",
      "윤년이 아닙니다.\n"
     ]
    }
   ],
   "source": [
    "# 실습 3\n",
    "\n",
    "year = int(input('연도를 입력해 주세요: '))\n",
    "if year%400 == 0 or (year%4 == 0 and year%100 != 0) :\n",
    "    print('윤년입니다.')\n",
    "else :\n",
    "    print('윤년이 아닙니다.')"
   ]
  },
  {
   "cell_type": "code",
   "execution_count": 20,
   "id": "6ecf14cd",
   "metadata": {},
   "outputs": [
    {
     "name": "stdout",
     "output_type": "stream",
     "text": [
      "나이스 : 27\n",
      "false\n"
     ]
    }
   ],
   "source": [
    "# 실습 4\n",
    "\n",
    "n = int(input('양의 정수 : '))\n",
    "a = 2\n",
    "while a <= n-1 :\n",
    "    if n%a == 0 :\n",
    "        print('false')\n",
    "        break\n",
    "    a += 1\n",
    "else :\n",
    "    print('true')"
   ]
  }
 ],
 "metadata": {
  "kernelspec": {
   "display_name": "Python 3 (ipykernel)",
   "language": "python",
   "name": "python3"
  },
  "language_info": {
   "codemirror_mode": {
    "name": "ipython",
    "version": 3
   },
   "file_extension": ".py",
   "mimetype": "text/x-python",
   "name": "python",
   "nbconvert_exporter": "python",
   "pygments_lexer": "ipython3",
   "version": "3.9.7"
  }
 },
 "nbformat": 4,
 "nbformat_minor": 5
}
