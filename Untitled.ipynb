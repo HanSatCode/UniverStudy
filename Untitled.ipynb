{
 "cells": [
  {
   "cell_type": "code",
   "execution_count": 3,
   "id": "5dae7b2e",
   "metadata": {},
   "outputs": [
    {
     "name": "stdout",
     "output_type": "stream",
     "text": [
      "(x1, y1), (x2, y2)의 중심점의 좌표 = 3.3,3.95\n",
      "(x1, y1), (y2, y2의 거리 = 4.0853396431631\n"
     ]
    }
   ],
   "source": [
    "import math\n",
    "x1, y1 = 5.2, 4.7\n",
    "x2, y2 = 1.4, 3.2\n",
    "print(f'(x1, y1), (x2, y2)의 중심점의 좌표 = {(x1+x2)/2},{(y1+y2)/2}')\n",
    "print(f'(x1, y1), (y2, y2의 거리 = { math.sqrt((x2-x1)**2 + (y2-y1)**2) }')"
   ]
  },
  {
   "cell_type": "code",
   "execution_count": 4,
   "id": "dae74d80",
   "metadata": {},
   "outputs": [
    {
     "name": "stdout",
     "output_type": "stream",
     "text": [
      "네 자리 정수를 입력하세요: 1234\n",
      "10\n"
     ]
    }
   ],
   "source": [
    "n = int(input('네 자리 정수를 입력하세요: '))\n",
    "print(f'각 자릿수의 합 = {(n//1000) + (n%1000//100) + (n%100//10) + (n%10)}')"
   ]
  },
  {
   "cell_type": "code",
   "execution_count": 6,
   "id": "784ef726",
   "metadata": {},
   "outputs": [
    {
     "name": "stdout",
     "output_type": "stream",
     "text": [
      "자정부터 경과 시간을 초단위로 입력: 53457\n",
      "현재 시각 = 14시간 50분 57초\n"
     ]
    }
   ],
   "source": [
    "n = int(input('자정부터 경과 시간을 초단위로 입력: '))\n",
    "print(f'현재 시각 = {n//3600}시간 {n%3600//60}분 {n%3600%60}초')"
   ]
  },
  {
   "cell_type": "code",
   "execution_count": 8,
   "id": "b908cb2d",
   "metadata": {},
   "outputs": [
    {
     "ename": "Terminator",
     "evalue": "",
     "output_type": "error",
     "traceback": [
      "\u001b[1;31m---------------------------------------------------------------------------\u001b[0m",
      "\u001b[1;31mTerminator\u001b[0m                                Traceback (most recent call last)",
      "\u001b[1;32m~\\AppData\\Local\\Temp/ipykernel_2692/1991580776.py\u001b[0m in \u001b[0;36m<module>\u001b[1;34m\u001b[0m\n\u001b[0;32m      8\u001b[0m     \u001b[0mt\u001b[0m\u001b[1;33m.\u001b[0m\u001b[0mright\u001b[0m\u001b[1;33m(\u001b[0m\u001b[1;36m144\u001b[0m\u001b[1;33m)\u001b[0m\u001b[1;33m\u001b[0m\u001b[1;33m\u001b[0m\u001b[0m\n\u001b[0;32m      9\u001b[0m \u001b[0mturtle\u001b[0m\u001b[1;33m.\u001b[0m\u001b[0mmainloop\u001b[0m\u001b[1;33m(\u001b[0m\u001b[1;33m)\u001b[0m\u001b[1;33m\u001b[0m\u001b[1;33m\u001b[0m\u001b[0m\n\u001b[1;32m---> 10\u001b[1;33m \u001b[0mturtle\u001b[0m\u001b[1;33m.\u001b[0m\u001b[0mbye\u001b[0m\u001b[1;33m(\u001b[0m\u001b[1;33m)\u001b[0m\u001b[1;33m\u001b[0m\u001b[1;33m\u001b[0m\u001b[0m\n\u001b[0m",
      "\u001b[1;32m~\\miniconda3\\lib\\turtle.py\u001b[0m in \u001b[0;36mbye\u001b[1;34m()\u001b[0m\n",
      "\u001b[1;31mTerminator\u001b[0m: "
     ]
    }
   ],
   "source": [
    "import turtle\n",
    "t = turtle.Turtle()\n",
    "wn = turtle.Screen()\n",
    "wn.bgcolor('light green')\n",
    "t.color('red')\n",
    "for x in range(5) :\n",
    "    t.forward(200)\n",
    "    t.right(144)\n",
    "turtle.mainloop()\n",
    "turtle.bye()"
   ]
  },
  {
   "cell_type": "code",
   "execution_count": 11,
   "id": "2aca5a60",
   "metadata": {},
   "outputs": [
    {
     "name": "stdout",
     "output_type": "stream",
     "text": [
      "양의 정수를 입력: 7\n",
      "true\n"
     ]
    }
   ],
   "source": [
    "n = int(input('양의 정수를 입력: '))\n",
    "a = 3\n",
    "if n == 2 :\n",
    "    print('true')\n",
    "else :\n",
    "    while a < n :\n",
    "        if n%a == 0 :\n",
    "            print('false')\n",
    "            break\n",
    "        a+=1\n",
    "    else :\n",
    "        print('true')"
   ]
  },
  {
   "cell_type": "code",
   "execution_count": 14,
   "id": "c9824ee1",
   "metadata": {},
   "outputs": [
    {
     "name": "stdout",
     "output_type": "stream",
     "text": [
      "항의 번호를 입력 : 7\n",
      "13\n"
     ]
    }
   ],
   "source": [
    "a = b = 1\n",
    "n = int(input('항의 번호를 입력 : '))\n",
    "if n <= 2 :\n",
    "    print(1)\n",
    "else :\n",
    "    for x in range(3, n+1) :\n",
    "        ab = a + b\n",
    "        a = b\n",
    "        b = ab\n",
    "print(b)"
   ]
  },
  {
   "cell_type": "code",
   "execution_count": 16,
   "id": "91523d97",
   "metadata": {},
   "outputs": [
    {
     "name": "stdout",
     "output_type": "stream",
     "text": [
      "양의 정수 입력 : 10\n",
      "2.9289682539682538\n"
     ]
    }
   ],
   "source": [
    "n = int(input('양의 정수 입력 : '))\n",
    "result = 0\n",
    "for x in range(1, n+1) :\n",
    "    result += 1/x\n",
    "print(result)"
   ]
  },
  {
   "cell_type": "code",
   "execution_count": 18,
   "id": "0cd494f4",
   "metadata": {},
   "outputs": [
    {
     "name": "stdout",
     "output_type": "stream",
     "text": [
      "*\n",
      "**\n",
      "***\n",
      "****\n",
      "*****\n",
      "******\n",
      "*******\n",
      "********\n",
      "*********\n",
      "**********\n"
     ]
    }
   ],
   "source": [
    "for x in range(10) :\n",
    "    for y in range(x+1) :\n",
    "        print('*', end='')\n",
    "    print()"
   ]
  },
  {
   "cell_type": "code",
   "execution_count": 19,
   "id": "6d93231d",
   "metadata": {},
   "outputs": [
    {
     "name": "stdout",
     "output_type": "stream",
     "text": [
      "**********\n",
      "*********\n",
      "********\n",
      "*******\n",
      "******\n",
      "*****\n",
      "****\n",
      "***\n",
      "**\n",
      "*\n"
     ]
    }
   ],
   "source": [
    "for x in range(10, 0, -1) :\n",
    "    for y in range(x) :\n",
    "        print('*', end='')\n",
    "    print()"
   ]
  },
  {
   "cell_type": "code",
   "execution_count": 20,
   "id": "9abf476f",
   "metadata": {},
   "outputs": [
    {
     "name": "stdout",
     "output_type": "stream",
     "text": [
      "          *\n",
      "         **\n",
      "        ***\n",
      "       ****\n",
      "      *****\n",
      "     ******\n",
      "    *******\n",
      "   ********\n",
      "  *********\n",
      " **********\n"
     ]
    }
   ],
   "source": [
    "for x in range(10, 0, -1) :\n",
    "    for y in range(x) :\n",
    "        print(' ', end='')\n",
    "    for z in range(11-x) :\n",
    "        print('*', end='')\n",
    "    print()"
   ]
  },
  {
   "cell_type": "code",
   "execution_count": 21,
   "id": "f5cec582",
   "metadata": {},
   "outputs": [
    {
     "name": "stdout",
     "output_type": "stream",
     "text": [
      "**********\n",
      " *********\n",
      "  ********\n",
      "   *******\n",
      "    ******\n",
      "     *****\n",
      "      ****\n",
      "       ***\n",
      "        **\n",
      "         *\n"
     ]
    }
   ],
   "source": [
    "for x in range(10) :\n",
    "    for y in range(x) :\n",
    "        print(' ', end='')\n",
    "    for z in range(10-x) :\n",
    "        print('*', end='')\n",
    "    print()\n",
    "        "
   ]
  },
  {
   "cell_type": "code",
   "execution_count": 24,
   "id": "d5865959",
   "metadata": {},
   "outputs": [
    {
     "name": "stdout",
     "output_type": "stream",
     "text": [
      "[15, 2, 14, 14, 14]\n"
     ]
    }
   ],
   "source": [
    "A = [23, 15, 2, 14, 14, 16, 20, 14]\n",
    "B = [2, 48, 15, 14, 26, 32, 47, 14]\n",
    "C = []\n",
    "for item in A :\n",
    "    if item in B :\n",
    "        C.append(item)\n",
    "print(C)"
   ]
  },
  {
   "cell_type": "code",
   "execution_count": 26,
   "id": "b5fbd4c1",
   "metadata": {},
   "outputs": [
    {
     "name": "stdout",
     "output_type": "stream",
     "text": [
      "[[15, 2, 14, 14, 14]]\n"
     ]
    }
   ],
   "source": [
    "D = [ [item for item in A if item in B] ]\n",
    "print(D)"
   ]
  },
  {
   "cell_type": "code",
   "execution_count": 27,
   "id": "7f187591",
   "metadata": {},
   "outputs": [
    {
     "name": "stdout",
     "output_type": "stream",
     "text": [
      "[2, 14, 15]\n"
     ]
    }
   ],
   "source": [
    "E = list(set(A).intersection(B))\n",
    "print(E)"
   ]
  },
  {
   "cell_type": "code",
   "execution_count": 29,
   "id": "e71857d4",
   "metadata": {},
   "outputs": [
    {
     "name": "stdout",
     "output_type": "stream",
     "text": [
      "[2, 14, 15, 16, 20, 23, 26, 32, 47, 48]\n"
     ]
    }
   ],
   "source": [
    "F = list(set(A).union(B))\n",
    "print(F)"
   ]
  },
  {
   "cell_type": "code",
   "execution_count": 31,
   "id": "6825a822",
   "metadata": {},
   "outputs": [
    {
     "name": "stdout",
     "output_type": "stream",
     "text": [
      "[16, 20, 23]\n"
     ]
    }
   ],
   "source": [
    "G = list(set(A).difference(B))\n",
    "print(G)"
   ]
  },
  {
   "cell_type": "code",
   "execution_count": 37,
   "id": "a09224d4",
   "metadata": {},
   "outputs": [
    {
     "name": "stdout",
     "output_type": "stream",
     "text": [
      "양의 정수를 입력: 100\n",
      "2 3 5 7 11 13 17 19 23 29 31 37 41 43 47 53 59 61 67 71 73 79 83 89 97 "
     ]
    }
   ],
   "source": [
    "n = int(input('양의 정수를 입력: '))\n",
    "if n >= 2 :\n",
    "    print(2, end=' ')\n",
    "for x in range(3, n+1) :\n",
    "    for y in range(2, x) :\n",
    "        if x%y == 0 :\n",
    "            break\n",
    "    else :\n",
    "        print(x, end=' ')"
   ]
  },
  {
   "cell_type": "code",
   "execution_count": 38,
   "id": "e1f834c4",
   "metadata": {},
   "outputs": [
    {
     "name": "stdout",
     "output_type": "stream",
     "text": [
      "[[6, 5, 9], [8, 6, 5], [9, 9, 9]]\n",
      "[[8, 8, 4], [10, 2, 7], [9, 8, 4]]\n",
      "[[14, 13, 13], [18, 8, 12], [18, 17, 13]]\n"
     ]
    }
   ],
   "source": [
    "import random\n",
    "A = [ [ random.randint(1, 10) for x in range(3) ] for y in range(3) ]\n",
    "B = [ [ random.randint(1, 10) for x in range(3) ] for y in range(3) ]\n",
    "C = [ [ A[x][y] + B[x][y] for y in range(3) ] for x in range(3) ]\n",
    "print(A, B, C, sep='\\n')"
   ]
  },
  {
   "cell_type": "code",
   "execution_count": 39,
   "id": "b722325c",
   "metadata": {},
   "outputs": [
    {
     "name": "stdout",
     "output_type": "stream",
     "text": [
      "교집합 = {2, 3, 4, 7, 11, 18}\n",
      "합집합 = {1, 2, 3, 4, 6, 7, 8, 9, 11, 12, 13, 14, 16, 17, 18, 20}\n",
      "S - T = {6, 13, 16, 17, 20}\n"
     ]
    }
   ],
   "source": [
    "S = {2, 3, 4, 6, 7, 11, 13, 16, 17, 18, 20}\n",
    "T = {1, 2, 3, 4, 7, 8, 9, 11, 12, 14, 18}\n",
    "print(f'교집합 = {S&T}')\n",
    "print(f'합집합 = {S|T}')\n",
    "print(f'S - T = {S-T}')"
   ]
  },
  {
   "cell_type": "code",
   "execution_count": 40,
   "id": "03e9c07a",
   "metadata": {},
   "outputs": [
    {
     "name": "stdout",
     "output_type": "stream",
     "text": [
      "문장을 입력하세요: UUAUUGCUUCUCCUACUG\n",
      "가장 많이 입력된 문자 = U (발생 빈도수 = 9)\n"
     ]
    }
   ],
   "source": [
    "a = input('문장을 입력하세요: ')\n",
    "dic = {}\n",
    "for word in a :\n",
    "    dic[word] = dic.get(word, 0) + 1\n",
    "print(f'가장 많이 입력된 문자 = {max(dic.keys())} (발생 빈도수 = {max(dic.values())})')"
   ]
  },
  {
   "cell_type": "code",
   "execution_count": 44,
   "id": "5a4278cb",
   "metadata": {},
   "outputs": [
    {
     "name": "stdout",
     "output_type": "stream",
     "text": [
      "It Was The Best Of Times It Was The Worst Of Times \n",
      "It Was The Age Of Wisdom It Was The Age Of Foolishness \n",
      "It Was The Epoch Of Belief It Was The Epoch Of Incredulity \n",
      "It Was The Season Of Light It Was The Season Of Darkness \n",
      "It Was The Spring Of Hope It Was The Winter Of Despair \n"
     ]
    }
   ],
   "source": [
    "file = open('c:/temp/data.txt', 'r', encoding='UTF8')\n",
    "for line in file :\n",
    "    for word in line.split() :\n",
    "        print(word[0].upper()+word[1:], end=' ')\n",
    "    print()"
   ]
  },
  {
   "cell_type": "code",
   "execution_count": 46,
   "id": "97515234",
   "metadata": {},
   "outputs": [
    {
     "name": "stdout",
     "output_type": "stream",
     "text": [
      "[('age', 2), ('belief', 1), ('best', 1), ('darkness', 1), ('despair', 1), ('epoch', 2), ('foolishness', 1), ('hope', 1), ('incredulity', 1), ('it', 10), ('light', 1), ('of', 10), ('season', 2), ('spring', 1), ('the', 10), ('times', 2), ('was', 10), ('winter', 1), ('wisdom', 1), ('worst', 1)]\n"
     ]
    }
   ],
   "source": [
    "file = open('c:/temp/data.txt', 'r', encoding='UTF8')\n",
    "dic = {}\n",
    "for line in file :\n",
    "    for word  in line.split() :\n",
    "        dic[word] = dic.get(word, 0) + 1\n",
    "print(sorted(dic.items()))"
   ]
  },
  {
   "cell_type": "code",
   "execution_count": 48,
   "id": "932b0db0",
   "metadata": {},
   "outputs": [
    {
     "name": "stdout",
     "output_type": "stream",
     "text": [
      "30\n"
     ]
    }
   ],
   "source": [
    "s = lambda x,y : x+y\n",
    "print(s(10, 20))"
   ]
  },
  {
   "cell_type": "code",
   "execution_count": null,
   "id": "5eac04bd",
   "metadata": {},
   "outputs": [],
   "source": []
  },
  {
   "cell_type": "code",
   "execution_count": null,
   "id": "33ca8a51",
   "metadata": {},
   "outputs": [],
   "source": []
  },
  {
   "cell_type": "code",
   "execution_count": null,
   "id": "11fb2610",
   "metadata": {},
   "outputs": [],
   "source": []
  },
  {
   "cell_type": "code",
   "execution_count": null,
   "id": "da441a61",
   "metadata": {},
   "outputs": [],
   "source": []
  },
  {
   "cell_type": "code",
   "execution_count": null,
   "id": "3f61caa0",
   "metadata": {},
   "outputs": [],
   "source": []
  },
  {
   "cell_type": "code",
   "execution_count": null,
   "id": "a0c0cbe3",
   "metadata": {},
   "outputs": [],
   "source": []
  },
  {
   "cell_type": "code",
   "execution_count": null,
   "id": "e4dd9684",
   "metadata": {},
   "outputs": [],
   "source": []
  },
  {
   "cell_type": "code",
   "execution_count": null,
   "id": "f9c3abea",
   "metadata": {},
   "outputs": [],
   "source": []
  },
  {
   "cell_type": "code",
   "execution_count": null,
   "id": "ce71dce9",
   "metadata": {},
   "outputs": [],
   "source": []
  },
  {
   "cell_type": "code",
   "execution_count": null,
   "id": "898a071f",
   "metadata": {},
   "outputs": [],
   "source": []
  },
  {
   "cell_type": "code",
   "execution_count": null,
   "id": "951be225",
   "metadata": {},
   "outputs": [],
   "source": []
  },
  {
   "cell_type": "code",
   "execution_count": null,
   "id": "7439adf9",
   "metadata": {},
   "outputs": [],
   "source": []
  },
  {
   "cell_type": "code",
   "execution_count": null,
   "id": "7c082353",
   "metadata": {},
   "outputs": [],
   "source": []
  },
  {
   "cell_type": "code",
   "execution_count": null,
   "id": "9be5c1f3",
   "metadata": {},
   "outputs": [],
   "source": []
  },
  {
   "cell_type": "code",
   "execution_count": null,
   "id": "750c943b",
   "metadata": {},
   "outputs": [],
   "source": []
  },
  {
   "cell_type": "code",
   "execution_count": null,
   "id": "2708beec",
   "metadata": {},
   "outputs": [],
   "source": []
  }
 ],
 "metadata": {
  "kernelspec": {
   "display_name": "Python 3 (ipykernel)",
   "language": "python",
   "name": "python3"
  },
  "language_info": {
   "codemirror_mode": {
    "name": "ipython",
    "version": 3
   },
   "file_extension": ".py",
   "mimetype": "text/x-python",
   "name": "python",
   "nbconvert_exporter": "python",
   "pygments_lexer": "ipython3",
   "version": "3.9.7"
  }
 },
 "nbformat": 4,
 "nbformat_minor": 5
}
